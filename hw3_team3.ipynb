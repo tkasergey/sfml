{
 "cells": [
  {
   "cell_type": "code",
   "execution_count": null,
   "metadata": {},
   "outputs": [],
   "source": []
  },
  {
   "cell_type": "code",
   "execution_count": 1,
   "metadata": {},
   "outputs": [],
   "source": [
    "import pandas as pd\n",
    "import numpy as np\n",
    "import matplotlib.pyplot as plt\n",
    "%matplotlib inline\n",
    "\n",
    "plt.style.use('ggplot')\n",
    "plt.rcParams['figure.figsize'] = (18,12)"
   ]
  },
  {
   "cell_type": "code",
   "execution_count": null,
   "metadata": {},
   "outputs": [],
   "source": [
    "train = pd.read_csv('train.csv', index_col='_id');\n",
    "train.head().T"
   ]
  },
  {
   "cell_type": "code",
   "execution_count": null,
   "metadata": {},
   "outputs": [],
   "source": []
  },
  {
   "cell_type": "code",
   "execution_count": 31,
   "metadata": {},
   "outputs": [
    {
     "data": {
      "text/html": [
       "<div>\n",
       "<style scoped>\n",
       "    .dataframe tbody tr th:only-of-type {\n",
       "        vertical-align: middle;\n",
       "    }\n",
       "\n",
       "    .dataframe tbody tr th {\n",
       "        vertical-align: top;\n",
       "    }\n",
       "\n",
       "    .dataframe thead th {\n",
       "        text-align: right;\n",
       "    }\n",
       "</style>\n",
       "<table border=\"1\" class=\"dataframe\">\n",
       "  <thead>\n",
       "    <tr style=\"text-align: right;\">\n",
       "      <th></th>\n",
       "      <th>target</th>\n",
       "      <th>Percentage</th>\n",
       "    </tr>\n",
       "  </thead>\n",
       "  <tbody>\n",
       "    <tr>\n",
       "      <th>0</th>\n",
       "      <td>21925</td>\n",
       "      <td>88.722078</td>\n",
       "    </tr>\n",
       "    <tr>\n",
       "      <th>1</th>\n",
       "      <td>2787</td>\n",
       "      <td>11.277922</td>\n",
       "    </tr>\n",
       "  </tbody>\n",
       "</table>\n",
       "</div>"
      ],
      "text/plain": [
       "   target  Percentage\n",
       "0   21925   88.722078\n",
       "1    2787   11.277922"
      ]
     },
     "execution_count": 31,
     "metadata": {},
     "output_type": "execute_result"
    }
   ],
   "source": [
    "df_0 = pd.DataFrame(train.target.value_counts())\n",
    "df_0['Percentage'] = 100*df_0['target']/train.shape[0]\n",
    "df_0"
   ]
  },
  {
   "cell_type": "code",
   "execution_count": 15,
   "metadata": {},
   "outputs": [],
   "source": [
    "#y = train['target'].values"
   ]
  },
  {
   "cell_type": "code",
   "execution_count": 16,
   "metadata": {},
   "outputs": [
    {
     "data": {
      "text/html": [
       "<div>\n",
       "<style scoped>\n",
       "    .dataframe tbody tr th:only-of-type {\n",
       "        vertical-align: middle;\n",
       "    }\n",
       "\n",
       "    .dataframe tbody tr th {\n",
       "        vertical-align: top;\n",
       "    }\n",
       "\n",
       "    .dataframe thead th {\n",
       "        text-align: right;\n",
       "    }\n",
       "</style>\n",
       "<table border=\"1\" class=\"dataframe\">\n",
       "  <thead>\n",
       "    <tr style=\"text-align: right;\">\n",
       "      <th>_id</th>\n",
       "      <th>df7489733b004bbe40d3d37b34f82419</th>\n",
       "      <th>905a0b9a5456ee962223033473666be3</th>\n",
       "      <th>02d69c07ec6d68e31d641edd45ce61cd</th>\n",
       "      <th>e492fbe0cccaf67cdb5c0944dbc8a167</th>\n",
       "      <th>ac2dc6f5835bdea8e71dd99b65208d07</th>\n",
       "    </tr>\n",
       "  </thead>\n",
       "  <tbody>\n",
       "    <tr>\n",
       "      <th>age</th>\n",
       "      <td>54</td>\n",
       "      <td>36</td>\n",
       "      <td>53</td>\n",
       "      <td>34</td>\n",
       "      <td>29</td>\n",
       "    </tr>\n",
       "    <tr>\n",
       "      <th>job</th>\n",
       "      <td>technician</td>\n",
       "      <td>services</td>\n",
       "      <td>blue-collar</td>\n",
       "      <td>blue-collar</td>\n",
       "      <td>services</td>\n",
       "    </tr>\n",
       "    <tr>\n",
       "      <th>marital</th>\n",
       "      <td>married</td>\n",
       "      <td>single</td>\n",
       "      <td>married</td>\n",
       "      <td>married</td>\n",
       "      <td>single</td>\n",
       "    </tr>\n",
       "    <tr>\n",
       "      <th>education</th>\n",
       "      <td>professional.course</td>\n",
       "      <td>basic.4y</td>\n",
       "      <td>basic.4y</td>\n",
       "      <td>basic.9y</td>\n",
       "      <td>university.degree</td>\n",
       "    </tr>\n",
       "    <tr>\n",
       "      <th>default</th>\n",
       "      <td>unknown</td>\n",
       "      <td>no</td>\n",
       "      <td>no</td>\n",
       "      <td>no</td>\n",
       "      <td>no</td>\n",
       "    </tr>\n",
       "    <tr>\n",
       "      <th>housing</th>\n",
       "      <td>no</td>\n",
       "      <td>no</td>\n",
       "      <td>yes</td>\n",
       "      <td>yes</td>\n",
       "      <td>yes</td>\n",
       "    </tr>\n",
       "    <tr>\n",
       "      <th>loan</th>\n",
       "      <td>no</td>\n",
       "      <td>no</td>\n",
       "      <td>no</td>\n",
       "      <td>yes</td>\n",
       "      <td>no</td>\n",
       "    </tr>\n",
       "    <tr>\n",
       "      <th>contact</th>\n",
       "      <td>cellular</td>\n",
       "      <td>telephone</td>\n",
       "      <td>cellular</td>\n",
       "      <td>telephone</td>\n",
       "      <td>telephone</td>\n",
       "    </tr>\n",
       "    <tr>\n",
       "      <th>month</th>\n",
       "      <td>aug</td>\n",
       "      <td>may</td>\n",
       "      <td>aug</td>\n",
       "      <td>may</td>\n",
       "      <td>aug</td>\n",
       "    </tr>\n",
       "    <tr>\n",
       "      <th>day_of_week</th>\n",
       "      <td>tue</td>\n",
       "      <td>mon</td>\n",
       "      <td>mon</td>\n",
       "      <td>wed</td>\n",
       "      <td>fri</td>\n",
       "    </tr>\n",
       "    <tr>\n",
       "      <th>duration</th>\n",
       "      <td>87</td>\n",
       "      <td>291</td>\n",
       "      <td>182</td>\n",
       "      <td>180</td>\n",
       "      <td>6</td>\n",
       "    </tr>\n",
       "    <tr>\n",
       "      <th>campaign</th>\n",
       "      <td>1</td>\n",
       "      <td>1</td>\n",
       "      <td>1</td>\n",
       "      <td>2</td>\n",
       "      <td>1</td>\n",
       "    </tr>\n",
       "    <tr>\n",
       "      <th>pdays</th>\n",
       "      <td>999</td>\n",
       "      <td>999</td>\n",
       "      <td>999</td>\n",
       "      <td>999</td>\n",
       "      <td>999</td>\n",
       "    </tr>\n",
       "    <tr>\n",
       "      <th>previous</th>\n",
       "      <td>0</td>\n",
       "      <td>0</td>\n",
       "      <td>0</td>\n",
       "      <td>0</td>\n",
       "      <td>0</td>\n",
       "    </tr>\n",
       "    <tr>\n",
       "      <th>poutcome</th>\n",
       "      <td>nonexistent</td>\n",
       "      <td>nonexistent</td>\n",
       "      <td>nonexistent</td>\n",
       "      <td>nonexistent</td>\n",
       "      <td>nonexistent</td>\n",
       "    </tr>\n",
       "    <tr>\n",
       "      <th>emp.var.rate</th>\n",
       "      <td>1.4</td>\n",
       "      <td>1.1</td>\n",
       "      <td>1.4</td>\n",
       "      <td>1.1</td>\n",
       "      <td>-1.7</td>\n",
       "    </tr>\n",
       "    <tr>\n",
       "      <th>cons.price.idx</th>\n",
       "      <td>93.444</td>\n",
       "      <td>93.994</td>\n",
       "      <td>93.444</td>\n",
       "      <td>93.994</td>\n",
       "      <td>94.027</td>\n",
       "    </tr>\n",
       "    <tr>\n",
       "      <th>cons.conf.idx</th>\n",
       "      <td>-36.1</td>\n",
       "      <td>-36.4</td>\n",
       "      <td>-36.1</td>\n",
       "      <td>-36.4</td>\n",
       "      <td>-38.3</td>\n",
       "    </tr>\n",
       "    <tr>\n",
       "      <th>euribor3m</th>\n",
       "      <td>4.963</td>\n",
       "      <td>4.857</td>\n",
       "      <td>4.965</td>\n",
       "      <td>4.857</td>\n",
       "      <td>0.89</td>\n",
       "    </tr>\n",
       "    <tr>\n",
       "      <th>nr.employed</th>\n",
       "      <td>5228.1</td>\n",
       "      <td>5191</td>\n",
       "      <td>5228.1</td>\n",
       "      <td>5191</td>\n",
       "      <td>4991.6</td>\n",
       "    </tr>\n",
       "  </tbody>\n",
       "</table>\n",
       "</div>"
      ],
      "text/plain": [
       "_id            df7489733b004bbe40d3d37b34f82419  \\\n",
       "age                                          54   \n",
       "job                                  technician   \n",
       "marital                                 married   \n",
       "education                   professional.course   \n",
       "default                                 unknown   \n",
       "housing                                      no   \n",
       "loan                                         no   \n",
       "contact                                cellular   \n",
       "month                                       aug   \n",
       "day_of_week                                 tue   \n",
       "duration                                     87   \n",
       "campaign                                      1   \n",
       "pdays                                       999   \n",
       "previous                                      0   \n",
       "poutcome                            nonexistent   \n",
       "emp.var.rate                                1.4   \n",
       "cons.price.idx                           93.444   \n",
       "cons.conf.idx                             -36.1   \n",
       "euribor3m                                 4.963   \n",
       "nr.employed                              5228.1   \n",
       "\n",
       "_id            905a0b9a5456ee962223033473666be3  \\\n",
       "age                                          36   \n",
       "job                                    services   \n",
       "marital                                  single   \n",
       "education                              basic.4y   \n",
       "default                                      no   \n",
       "housing                                      no   \n",
       "loan                                         no   \n",
       "contact                               telephone   \n",
       "month                                       may   \n",
       "day_of_week                                 mon   \n",
       "duration                                    291   \n",
       "campaign                                      1   \n",
       "pdays                                       999   \n",
       "previous                                      0   \n",
       "poutcome                            nonexistent   \n",
       "emp.var.rate                                1.1   \n",
       "cons.price.idx                           93.994   \n",
       "cons.conf.idx                             -36.4   \n",
       "euribor3m                                 4.857   \n",
       "nr.employed                                5191   \n",
       "\n",
       "_id            02d69c07ec6d68e31d641edd45ce61cd  \\\n",
       "age                                          53   \n",
       "job                                 blue-collar   \n",
       "marital                                 married   \n",
       "education                              basic.4y   \n",
       "default                                      no   \n",
       "housing                                     yes   \n",
       "loan                                         no   \n",
       "contact                                cellular   \n",
       "month                                       aug   \n",
       "day_of_week                                 mon   \n",
       "duration                                    182   \n",
       "campaign                                      1   \n",
       "pdays                                       999   \n",
       "previous                                      0   \n",
       "poutcome                            nonexistent   \n",
       "emp.var.rate                                1.4   \n",
       "cons.price.idx                           93.444   \n",
       "cons.conf.idx                             -36.1   \n",
       "euribor3m                                 4.965   \n",
       "nr.employed                              5228.1   \n",
       "\n",
       "_id            e492fbe0cccaf67cdb5c0944dbc8a167  \\\n",
       "age                                          34   \n",
       "job                                 blue-collar   \n",
       "marital                                 married   \n",
       "education                              basic.9y   \n",
       "default                                      no   \n",
       "housing                                     yes   \n",
       "loan                                        yes   \n",
       "contact                               telephone   \n",
       "month                                       may   \n",
       "day_of_week                                 wed   \n",
       "duration                                    180   \n",
       "campaign                                      2   \n",
       "pdays                                       999   \n",
       "previous                                      0   \n",
       "poutcome                            nonexistent   \n",
       "emp.var.rate                                1.1   \n",
       "cons.price.idx                           93.994   \n",
       "cons.conf.idx                             -36.4   \n",
       "euribor3m                                 4.857   \n",
       "nr.employed                                5191   \n",
       "\n",
       "_id            ac2dc6f5835bdea8e71dd99b65208d07  \n",
       "age                                          29  \n",
       "job                                    services  \n",
       "marital                                  single  \n",
       "education                     university.degree  \n",
       "default                                      no  \n",
       "housing                                     yes  \n",
       "loan                                         no  \n",
       "contact                               telephone  \n",
       "month                                       aug  \n",
       "day_of_week                                 fri  \n",
       "duration                                      6  \n",
       "campaign                                      1  \n",
       "pdays                                       999  \n",
       "previous                                      0  \n",
       "poutcome                            nonexistent  \n",
       "emp.var.rate                               -1.7  \n",
       "cons.price.idx                           94.027  \n",
       "cons.conf.idx                             -38.3  \n",
       "euribor3m                                  0.89  \n",
       "nr.employed                              4991.6  "
      ]
     },
     "execution_count": 16,
     "metadata": {},
     "output_type": "execute_result"
    }
   ],
   "source": [
    "#train = train.drop('target', axis=1);\n",
    "#train.head().T"
   ]
  },
  {
   "cell_type": "code",
   "execution_count": 32,
   "metadata": {},
   "outputs": [
    {
     "name": "stdout",
     "output_type": "stream",
     "text": [
      "<class 'pandas.core.frame.DataFrame'>\n",
      "Index: 24712 entries, df7489733b004bbe40d3d37b34f82419 to 46d0d25dfd1def79632dd437261d0b5c\n",
      "Data columns (total 21 columns):\n",
      "age               24712 non-null int64\n",
      "job               24712 non-null object\n",
      "marital           24712 non-null object\n",
      "education         24712 non-null object\n",
      "default           24712 non-null object\n",
      "housing           24712 non-null object\n",
      "loan              24712 non-null object\n",
      "contact           24712 non-null object\n",
      "month             24712 non-null object\n",
      "day_of_week       24712 non-null object\n",
      "duration          24712 non-null int64\n",
      "campaign          24712 non-null int64\n",
      "pdays             24712 non-null int64\n",
      "previous          24712 non-null int64\n",
      "poutcome          24712 non-null object\n",
      "emp.var.rate      24712 non-null float64\n",
      "cons.price.idx    24712 non-null float64\n",
      "cons.conf.idx     24712 non-null float64\n",
      "euribor3m         24712 non-null float64\n",
      "nr.employed       24712 non-null float64\n",
      "target            24712 non-null int64\n",
      "dtypes: float64(5), int64(6), object(10)\n",
      "memory usage: 4.1+ MB\n"
     ]
    }
   ],
   "source": [
    "train.info()"
   ]
  },
  {
   "cell_type": "code",
   "execution_count": 52,
   "metadata": {},
   "outputs": [
    {
     "data": {
      "text/plain": [
       "(24712, 21)"
      ]
     },
     "execution_count": 52,
     "metadata": {},
     "output_type": "execute_result"
    }
   ],
   "source": [
    "train_knn = train.copy();\n",
    "train_knn.shape"
   ]
  },
  {
   "cell_type": "code",
   "execution_count": 34,
   "metadata": {},
   "outputs": [
    {
     "data": {
      "text/plain": [
       "0    21925\n",
       "1     2787\n",
       "Name: target, dtype: int64"
      ]
     },
     "execution_count": 34,
     "metadata": {},
     "output_type": "execute_result"
    }
   ],
   "source": [
    "train_knn.loc[:, 'target'].value_counts()"
   ]
  },
  {
   "cell_type": "code",
   "execution_count": 35,
   "metadata": {},
   "outputs": [
    {
     "data": {
      "text/html": [
       "<div>\n",
       "<style scoped>\n",
       "    .dataframe tbody tr th:only-of-type {\n",
       "        vertical-align: middle;\n",
       "    }\n",
       "\n",
       "    .dataframe tbody tr th {\n",
       "        vertical-align: top;\n",
       "    }\n",
       "\n",
       "    .dataframe thead th {\n",
       "        text-align: right;\n",
       "    }\n",
       "</style>\n",
       "<table border=\"1\" class=\"dataframe\">\n",
       "  <thead>\n",
       "    <tr style=\"text-align: right;\">\n",
       "      <th></th>\n",
       "      <th>count</th>\n",
       "      <th>unique</th>\n",
       "      <th>top</th>\n",
       "      <th>freq</th>\n",
       "      <th>mean</th>\n",
       "      <th>std</th>\n",
       "      <th>min</th>\n",
       "      <th>25%</th>\n",
       "      <th>50%</th>\n",
       "      <th>75%</th>\n",
       "      <th>max</th>\n",
       "    </tr>\n",
       "  </thead>\n",
       "  <tbody>\n",
       "    <tr>\n",
       "      <th>age</th>\n",
       "      <td>24712</td>\n",
       "      <td>NaN</td>\n",
       "      <td>NaN</td>\n",
       "      <td>NaN</td>\n",
       "      <td>40.0302</td>\n",
       "      <td>10.4623</td>\n",
       "      <td>17</td>\n",
       "      <td>32</td>\n",
       "      <td>38</td>\n",
       "      <td>47</td>\n",
       "      <td>98</td>\n",
       "    </tr>\n",
       "    <tr>\n",
       "      <th>job</th>\n",
       "      <td>24712</td>\n",
       "      <td>12</td>\n",
       "      <td>admin.</td>\n",
       "      <td>6254</td>\n",
       "      <td>NaN</td>\n",
       "      <td>NaN</td>\n",
       "      <td>NaN</td>\n",
       "      <td>NaN</td>\n",
       "      <td>NaN</td>\n",
       "      <td>NaN</td>\n",
       "      <td>NaN</td>\n",
       "    </tr>\n",
       "    <tr>\n",
       "      <th>marital</th>\n",
       "      <td>24712</td>\n",
       "      <td>4</td>\n",
       "      <td>married</td>\n",
       "      <td>14871</td>\n",
       "      <td>NaN</td>\n",
       "      <td>NaN</td>\n",
       "      <td>NaN</td>\n",
       "      <td>NaN</td>\n",
       "      <td>NaN</td>\n",
       "      <td>NaN</td>\n",
       "      <td>NaN</td>\n",
       "    </tr>\n",
       "    <tr>\n",
       "      <th>education</th>\n",
       "      <td>24712</td>\n",
       "      <td>8</td>\n",
       "      <td>university.degree</td>\n",
       "      <td>7309</td>\n",
       "      <td>NaN</td>\n",
       "      <td>NaN</td>\n",
       "      <td>NaN</td>\n",
       "      <td>NaN</td>\n",
       "      <td>NaN</td>\n",
       "      <td>NaN</td>\n",
       "      <td>NaN</td>\n",
       "    </tr>\n",
       "    <tr>\n",
       "      <th>default</th>\n",
       "      <td>24712</td>\n",
       "      <td>3</td>\n",
       "      <td>no</td>\n",
       "      <td>19567</td>\n",
       "      <td>NaN</td>\n",
       "      <td>NaN</td>\n",
       "      <td>NaN</td>\n",
       "      <td>NaN</td>\n",
       "      <td>NaN</td>\n",
       "      <td>NaN</td>\n",
       "      <td>NaN</td>\n",
       "    </tr>\n",
       "    <tr>\n",
       "      <th>housing</th>\n",
       "      <td>24712</td>\n",
       "      <td>3</td>\n",
       "      <td>yes</td>\n",
       "      <td>12934</td>\n",
       "      <td>NaN</td>\n",
       "      <td>NaN</td>\n",
       "      <td>NaN</td>\n",
       "      <td>NaN</td>\n",
       "      <td>NaN</td>\n",
       "      <td>NaN</td>\n",
       "      <td>NaN</td>\n",
       "    </tr>\n",
       "    <tr>\n",
       "      <th>loan</th>\n",
       "      <td>24712</td>\n",
       "      <td>3</td>\n",
       "      <td>no</td>\n",
       "      <td>20334</td>\n",
       "      <td>NaN</td>\n",
       "      <td>NaN</td>\n",
       "      <td>NaN</td>\n",
       "      <td>NaN</td>\n",
       "      <td>NaN</td>\n",
       "      <td>NaN</td>\n",
       "      <td>NaN</td>\n",
       "    </tr>\n",
       "    <tr>\n",
       "      <th>contact</th>\n",
       "      <td>24712</td>\n",
       "      <td>2</td>\n",
       "      <td>cellular</td>\n",
       "      <td>15729</td>\n",
       "      <td>NaN</td>\n",
       "      <td>NaN</td>\n",
       "      <td>NaN</td>\n",
       "      <td>NaN</td>\n",
       "      <td>NaN</td>\n",
       "      <td>NaN</td>\n",
       "      <td>NaN</td>\n",
       "    </tr>\n",
       "    <tr>\n",
       "      <th>month</th>\n",
       "      <td>24712</td>\n",
       "      <td>10</td>\n",
       "      <td>may</td>\n",
       "      <td>8199</td>\n",
       "      <td>NaN</td>\n",
       "      <td>NaN</td>\n",
       "      <td>NaN</td>\n",
       "      <td>NaN</td>\n",
       "      <td>NaN</td>\n",
       "      <td>NaN</td>\n",
       "      <td>NaN</td>\n",
       "    </tr>\n",
       "    <tr>\n",
       "      <th>day_of_week</th>\n",
       "      <td>24712</td>\n",
       "      <td>5</td>\n",
       "      <td>thu</td>\n",
       "      <td>5144</td>\n",
       "      <td>NaN</td>\n",
       "      <td>NaN</td>\n",
       "      <td>NaN</td>\n",
       "      <td>NaN</td>\n",
       "      <td>NaN</td>\n",
       "      <td>NaN</td>\n",
       "      <td>NaN</td>\n",
       "    </tr>\n",
       "    <tr>\n",
       "      <th>duration</th>\n",
       "      <td>24712</td>\n",
       "      <td>NaN</td>\n",
       "      <td>NaN</td>\n",
       "      <td>NaN</td>\n",
       "      <td>258.345</td>\n",
       "      <td>261.573</td>\n",
       "      <td>0</td>\n",
       "      <td>102</td>\n",
       "      <td>180</td>\n",
       "      <td>319</td>\n",
       "      <td>4918</td>\n",
       "    </tr>\n",
       "    <tr>\n",
       "      <th>campaign</th>\n",
       "      <td>24712</td>\n",
       "      <td>NaN</td>\n",
       "      <td>NaN</td>\n",
       "      <td>NaN</td>\n",
       "      <td>2.58016</td>\n",
       "      <td>2.77676</td>\n",
       "      <td>1</td>\n",
       "      <td>1</td>\n",
       "      <td>2</td>\n",
       "      <td>3</td>\n",
       "      <td>43</td>\n",
       "    </tr>\n",
       "    <tr>\n",
       "      <th>pdays</th>\n",
       "      <td>24712</td>\n",
       "      <td>NaN</td>\n",
       "      <td>NaN</td>\n",
       "      <td>NaN</td>\n",
       "      <td>963.559</td>\n",
       "      <td>184.225</td>\n",
       "      <td>0</td>\n",
       "      <td>999</td>\n",
       "      <td>999</td>\n",
       "      <td>999</td>\n",
       "      <td>999</td>\n",
       "    </tr>\n",
       "    <tr>\n",
       "      <th>previous</th>\n",
       "      <td>24712</td>\n",
       "      <td>NaN</td>\n",
       "      <td>NaN</td>\n",
       "      <td>NaN</td>\n",
       "      <td>0.1719</td>\n",
       "      <td>0.491511</td>\n",
       "      <td>0</td>\n",
       "      <td>0</td>\n",
       "      <td>0</td>\n",
       "      <td>0</td>\n",
       "      <td>6</td>\n",
       "    </tr>\n",
       "    <tr>\n",
       "      <th>poutcome</th>\n",
       "      <td>24712</td>\n",
       "      <td>3</td>\n",
       "      <td>nonexistent</td>\n",
       "      <td>21346</td>\n",
       "      <td>NaN</td>\n",
       "      <td>NaN</td>\n",
       "      <td>NaN</td>\n",
       "      <td>NaN</td>\n",
       "      <td>NaN</td>\n",
       "      <td>NaN</td>\n",
       "      <td>NaN</td>\n",
       "    </tr>\n",
       "    <tr>\n",
       "      <th>emp.var.rate</th>\n",
       "      <td>24712</td>\n",
       "      <td>NaN</td>\n",
       "      <td>NaN</td>\n",
       "      <td>NaN</td>\n",
       "      <td>0.0827129</td>\n",
       "      <td>1.5723</td>\n",
       "      <td>-3.4</td>\n",
       "      <td>-1.8</td>\n",
       "      <td>1.1</td>\n",
       "      <td>1.4</td>\n",
       "      <td>1.4</td>\n",
       "    </tr>\n",
       "    <tr>\n",
       "      <th>cons.price.idx</th>\n",
       "      <td>24712</td>\n",
       "      <td>NaN</td>\n",
       "      <td>NaN</td>\n",
       "      <td>NaN</td>\n",
       "      <td>93.5764</td>\n",
       "      <td>0.579548</td>\n",
       "      <td>92.201</td>\n",
       "      <td>93.075</td>\n",
       "      <td>93.749</td>\n",
       "      <td>93.994</td>\n",
       "      <td>94.767</td>\n",
       "    </tr>\n",
       "    <tr>\n",
       "      <th>cons.conf.idx</th>\n",
       "      <td>24712</td>\n",
       "      <td>NaN</td>\n",
       "      <td>NaN</td>\n",
       "      <td>NaN</td>\n",
       "      <td>-40.5161</td>\n",
       "      <td>4.63936</td>\n",
       "      <td>-50.8</td>\n",
       "      <td>-42.7</td>\n",
       "      <td>-41.8</td>\n",
       "      <td>-36.4</td>\n",
       "      <td>-26.9</td>\n",
       "    </tr>\n",
       "    <tr>\n",
       "      <th>euribor3m</th>\n",
       "      <td>24712</td>\n",
       "      <td>NaN</td>\n",
       "      <td>NaN</td>\n",
       "      <td>NaN</td>\n",
       "      <td>3.6194</td>\n",
       "      <td>1.7371</td>\n",
       "      <td>0.634</td>\n",
       "      <td>1.344</td>\n",
       "      <td>4.857</td>\n",
       "      <td>4.961</td>\n",
       "      <td>5.045</td>\n",
       "    </tr>\n",
       "    <tr>\n",
       "      <th>nr.employed</th>\n",
       "      <td>24712</td>\n",
       "      <td>NaN</td>\n",
       "      <td>NaN</td>\n",
       "      <td>NaN</td>\n",
       "      <td>5166.99</td>\n",
       "      <td>72.5162</td>\n",
       "      <td>4963.6</td>\n",
       "      <td>5099.1</td>\n",
       "      <td>5191</td>\n",
       "      <td>5228.1</td>\n",
       "      <td>5228.1</td>\n",
       "    </tr>\n",
       "    <tr>\n",
       "      <th>target</th>\n",
       "      <td>24712</td>\n",
       "      <td>NaN</td>\n",
       "      <td>NaN</td>\n",
       "      <td>NaN</td>\n",
       "      <td>0.112779</td>\n",
       "      <td>0.316329</td>\n",
       "      <td>0</td>\n",
       "      <td>0</td>\n",
       "      <td>0</td>\n",
       "      <td>0</td>\n",
       "      <td>1</td>\n",
       "    </tr>\n",
       "  </tbody>\n",
       "</table>\n",
       "</div>"
      ],
      "text/plain": [
       "                count unique                top   freq       mean       std  \\\n",
       "age             24712    NaN                NaN    NaN    40.0302   10.4623   \n",
       "job             24712     12             admin.   6254        NaN       NaN   \n",
       "marital         24712      4            married  14871        NaN       NaN   \n",
       "education       24712      8  university.degree   7309        NaN       NaN   \n",
       "default         24712      3                 no  19567        NaN       NaN   \n",
       "housing         24712      3                yes  12934        NaN       NaN   \n",
       "loan            24712      3                 no  20334        NaN       NaN   \n",
       "contact         24712      2           cellular  15729        NaN       NaN   \n",
       "month           24712     10                may   8199        NaN       NaN   \n",
       "day_of_week     24712      5                thu   5144        NaN       NaN   \n",
       "duration        24712    NaN                NaN    NaN    258.345   261.573   \n",
       "campaign        24712    NaN                NaN    NaN    2.58016   2.77676   \n",
       "pdays           24712    NaN                NaN    NaN    963.559   184.225   \n",
       "previous        24712    NaN                NaN    NaN     0.1719  0.491511   \n",
       "poutcome        24712      3        nonexistent  21346        NaN       NaN   \n",
       "emp.var.rate    24712    NaN                NaN    NaN  0.0827129    1.5723   \n",
       "cons.price.idx  24712    NaN                NaN    NaN    93.5764  0.579548   \n",
       "cons.conf.idx   24712    NaN                NaN    NaN   -40.5161   4.63936   \n",
       "euribor3m       24712    NaN                NaN    NaN     3.6194    1.7371   \n",
       "nr.employed     24712    NaN                NaN    NaN    5166.99   72.5162   \n",
       "target          24712    NaN                NaN    NaN   0.112779  0.316329   \n",
       "\n",
       "                   min     25%     50%     75%     max  \n",
       "age                 17      32      38      47      98  \n",
       "job                NaN     NaN     NaN     NaN     NaN  \n",
       "marital            NaN     NaN     NaN     NaN     NaN  \n",
       "education          NaN     NaN     NaN     NaN     NaN  \n",
       "default            NaN     NaN     NaN     NaN     NaN  \n",
       "housing            NaN     NaN     NaN     NaN     NaN  \n",
       "loan               NaN     NaN     NaN     NaN     NaN  \n",
       "contact            NaN     NaN     NaN     NaN     NaN  \n",
       "month              NaN     NaN     NaN     NaN     NaN  \n",
       "day_of_week        NaN     NaN     NaN     NaN     NaN  \n",
       "duration             0     102     180     319    4918  \n",
       "campaign             1       1       2       3      43  \n",
       "pdays                0     999     999     999     999  \n",
       "previous             0       0       0       0       6  \n",
       "poutcome           NaN     NaN     NaN     NaN     NaN  \n",
       "emp.var.rate      -3.4    -1.8     1.1     1.4     1.4  \n",
       "cons.price.idx  92.201  93.075  93.749  93.994  94.767  \n",
       "cons.conf.idx    -50.8   -42.7   -41.8   -36.4   -26.9  \n",
       "euribor3m        0.634   1.344   4.857   4.961   5.045  \n",
       "nr.employed     4963.6  5099.1    5191  5228.1  5228.1  \n",
       "target               0       0       0       0       1  "
      ]
     },
     "execution_count": 35,
     "metadata": {},
     "output_type": "execute_result"
    }
   ],
   "source": [
    "train_knn.describe(include='all').T"
   ]
  },
  {
   "cell_type": "code",
   "execution_count": 53,
   "metadata": {},
   "outputs": [],
   "source": [
    "def preproc(df_init):\n",
    "    df_preproc = df_init.copy()\n",
    "    \n",
    "    df_preproc = df_preproc.drop(['job', 'marital', 'education', 'day_of_week', 'month'], axis = 1)\n",
    "    \n",
    "    # Замена бинарных признаков\n",
    "    df_preproc.loc[:, [\"poutcome\"]] = \\\n",
    "    df_preproc.loc[:, [\"poutcome\"]].replace({'failure': 0, 'nonexistent': 0, 'success': 1});\n",
    "    \n",
    "    df_preproc.loc[:, [\"contact\"]] = \\\n",
    "    df_preproc.loc[:, [\"contact\"]].replace({'telephone': 0, 'cellular': 1});\n",
    "    \n",
    "    df_preproc.loc[:, [\"default\", 'housing', 'loan']] = \\\n",
    "    df_preproc.loc[:, ['default', 'housing', 'loan']].replace({'no': 0, 'unknown':0, 'yes': 1})\n",
    "        \n",
    "    return df_preproc"
   ]
  },
  {
   "cell_type": "code",
   "execution_count": 54,
   "metadata": {},
   "outputs": [
    {
     "data": {
      "text/html": [
       "<div>\n",
       "<style scoped>\n",
       "    .dataframe tbody tr th:only-of-type {\n",
       "        vertical-align: middle;\n",
       "    }\n",
       "\n",
       "    .dataframe tbody tr th {\n",
       "        vertical-align: top;\n",
       "    }\n",
       "\n",
       "    .dataframe thead th {\n",
       "        text-align: right;\n",
       "    }\n",
       "</style>\n",
       "<table border=\"1\" class=\"dataframe\">\n",
       "  <thead>\n",
       "    <tr style=\"text-align: right;\">\n",
       "      <th></th>\n",
       "      <th>age</th>\n",
       "      <th>default</th>\n",
       "      <th>housing</th>\n",
       "      <th>loan</th>\n",
       "      <th>contact</th>\n",
       "      <th>duration</th>\n",
       "      <th>campaign</th>\n",
       "      <th>pdays</th>\n",
       "      <th>previous</th>\n",
       "      <th>poutcome</th>\n",
       "      <th>emp.var.rate</th>\n",
       "      <th>cons.price.idx</th>\n",
       "      <th>cons.conf.idx</th>\n",
       "      <th>euribor3m</th>\n",
       "      <th>nr.employed</th>\n",
       "      <th>target</th>\n",
       "    </tr>\n",
       "    <tr>\n",
       "      <th>_id</th>\n",
       "      <th></th>\n",
       "      <th></th>\n",
       "      <th></th>\n",
       "      <th></th>\n",
       "      <th></th>\n",
       "      <th></th>\n",
       "      <th></th>\n",
       "      <th></th>\n",
       "      <th></th>\n",
       "      <th></th>\n",
       "      <th></th>\n",
       "      <th></th>\n",
       "      <th></th>\n",
       "      <th></th>\n",
       "      <th></th>\n",
       "      <th></th>\n",
       "    </tr>\n",
       "  </thead>\n",
       "  <tbody>\n",
       "    <tr>\n",
       "      <th>df7489733b004bbe40d3d37b34f82419</th>\n",
       "      <td>54</td>\n",
       "      <td>0</td>\n",
       "      <td>0</td>\n",
       "      <td>0</td>\n",
       "      <td>1</td>\n",
       "      <td>87</td>\n",
       "      <td>1</td>\n",
       "      <td>999</td>\n",
       "      <td>0</td>\n",
       "      <td>0</td>\n",
       "      <td>1.4</td>\n",
       "      <td>93.444</td>\n",
       "      <td>-36.1</td>\n",
       "      <td>4.963</td>\n",
       "      <td>5228.1</td>\n",
       "      <td>0</td>\n",
       "    </tr>\n",
       "    <tr>\n",
       "      <th>905a0b9a5456ee962223033473666be3</th>\n",
       "      <td>36</td>\n",
       "      <td>0</td>\n",
       "      <td>0</td>\n",
       "      <td>0</td>\n",
       "      <td>0</td>\n",
       "      <td>291</td>\n",
       "      <td>1</td>\n",
       "      <td>999</td>\n",
       "      <td>0</td>\n",
       "      <td>0</td>\n",
       "      <td>1.1</td>\n",
       "      <td>93.994</td>\n",
       "      <td>-36.4</td>\n",
       "      <td>4.857</td>\n",
       "      <td>5191.0</td>\n",
       "      <td>0</td>\n",
       "    </tr>\n",
       "    <tr>\n",
       "      <th>02d69c07ec6d68e31d641edd45ce61cd</th>\n",
       "      <td>53</td>\n",
       "      <td>0</td>\n",
       "      <td>1</td>\n",
       "      <td>0</td>\n",
       "      <td>1</td>\n",
       "      <td>182</td>\n",
       "      <td>1</td>\n",
       "      <td>999</td>\n",
       "      <td>0</td>\n",
       "      <td>0</td>\n",
       "      <td>1.4</td>\n",
       "      <td>93.444</td>\n",
       "      <td>-36.1</td>\n",
       "      <td>4.965</td>\n",
       "      <td>5228.1</td>\n",
       "      <td>0</td>\n",
       "    </tr>\n",
       "    <tr>\n",
       "      <th>e492fbe0cccaf67cdb5c0944dbc8a167</th>\n",
       "      <td>34</td>\n",
       "      <td>0</td>\n",
       "      <td>1</td>\n",
       "      <td>1</td>\n",
       "      <td>0</td>\n",
       "      <td>180</td>\n",
       "      <td>2</td>\n",
       "      <td>999</td>\n",
       "      <td>0</td>\n",
       "      <td>0</td>\n",
       "      <td>1.1</td>\n",
       "      <td>93.994</td>\n",
       "      <td>-36.4</td>\n",
       "      <td>4.857</td>\n",
       "      <td>5191.0</td>\n",
       "      <td>0</td>\n",
       "    </tr>\n",
       "    <tr>\n",
       "      <th>ac2dc6f5835bdea8e71dd99b65208d07</th>\n",
       "      <td>29</td>\n",
       "      <td>0</td>\n",
       "      <td>1</td>\n",
       "      <td>0</td>\n",
       "      <td>0</td>\n",
       "      <td>6</td>\n",
       "      <td>1</td>\n",
       "      <td>999</td>\n",
       "      <td>0</td>\n",
       "      <td>0</td>\n",
       "      <td>-1.7</td>\n",
       "      <td>94.027</td>\n",
       "      <td>-38.3</td>\n",
       "      <td>0.890</td>\n",
       "      <td>4991.6</td>\n",
       "      <td>0</td>\n",
       "    </tr>\n",
       "  </tbody>\n",
       "</table>\n",
       "</div>"
      ],
      "text/plain": [
       "                                  age  default  housing  loan  contact  \\\n",
       "_id                                                                      \n",
       "df7489733b004bbe40d3d37b34f82419   54        0        0     0        1   \n",
       "905a0b9a5456ee962223033473666be3   36        0        0     0        0   \n",
       "02d69c07ec6d68e31d641edd45ce61cd   53        0        1     0        1   \n",
       "e492fbe0cccaf67cdb5c0944dbc8a167   34        0        1     1        0   \n",
       "ac2dc6f5835bdea8e71dd99b65208d07   29        0        1     0        0   \n",
       "\n",
       "                                  duration  campaign  pdays  previous  \\\n",
       "_id                                                                     \n",
       "df7489733b004bbe40d3d37b34f82419        87         1    999         0   \n",
       "905a0b9a5456ee962223033473666be3       291         1    999         0   \n",
       "02d69c07ec6d68e31d641edd45ce61cd       182         1    999         0   \n",
       "e492fbe0cccaf67cdb5c0944dbc8a167       180         2    999         0   \n",
       "ac2dc6f5835bdea8e71dd99b65208d07         6         1    999         0   \n",
       "\n",
       "                                  poutcome  emp.var.rate  cons.price.idx  \\\n",
       "_id                                                                        \n",
       "df7489733b004bbe40d3d37b34f82419         0           1.4          93.444   \n",
       "905a0b9a5456ee962223033473666be3         0           1.1          93.994   \n",
       "02d69c07ec6d68e31d641edd45ce61cd         0           1.4          93.444   \n",
       "e492fbe0cccaf67cdb5c0944dbc8a167         0           1.1          93.994   \n",
       "ac2dc6f5835bdea8e71dd99b65208d07         0          -1.7          94.027   \n",
       "\n",
       "                                  cons.conf.idx  euribor3m  nr.employed  \\\n",
       "_id                                                                       \n",
       "df7489733b004bbe40d3d37b34f82419          -36.1      4.963       5228.1   \n",
       "905a0b9a5456ee962223033473666be3          -36.4      4.857       5191.0   \n",
       "02d69c07ec6d68e31d641edd45ce61cd          -36.1      4.965       5228.1   \n",
       "e492fbe0cccaf67cdb5c0944dbc8a167          -36.4      4.857       5191.0   \n",
       "ac2dc6f5835bdea8e71dd99b65208d07          -38.3      0.890       4991.6   \n",
       "\n",
       "                                  target  \n",
       "_id                                       \n",
       "df7489733b004bbe40d3d37b34f82419       0  \n",
       "905a0b9a5456ee962223033473666be3       0  \n",
       "02d69c07ec6d68e31d641edd45ce61cd       0  \n",
       "e492fbe0cccaf67cdb5c0944dbc8a167       0  \n",
       "ac2dc6f5835bdea8e71dd99b65208d07       0  "
      ]
     },
     "execution_count": 54,
     "metadata": {},
     "output_type": "execute_result"
    }
   ],
   "source": [
    "df_preproc = train_knn.pipe(preproc);\n",
    "df_preproc.head()"
   ]
  },
  {
   "cell_type": "code",
   "execution_count": 55,
   "metadata": {},
   "outputs": [
    {
     "name": "stdout",
     "output_type": "stream",
     "text": [
      "<class 'pandas.core.frame.DataFrame'>\n",
      "Index: 24712 entries, df7489733b004bbe40d3d37b34f82419 to 46d0d25dfd1def79632dd437261d0b5c\n",
      "Data columns (total 16 columns):\n",
      "age               24712 non-null int64\n",
      "default           24712 non-null int64\n",
      "housing           24712 non-null int64\n",
      "loan              24712 non-null int64\n",
      "contact           24712 non-null int64\n",
      "duration          24712 non-null int64\n",
      "campaign          24712 non-null int64\n",
      "pdays             24712 non-null int64\n",
      "previous          24712 non-null int64\n",
      "poutcome          24712 non-null int64\n",
      "emp.var.rate      24712 non-null float64\n",
      "cons.price.idx    24712 non-null float64\n",
      "cons.conf.idx     24712 non-null float64\n",
      "euribor3m         24712 non-null float64\n",
      "nr.employed       24712 non-null float64\n",
      "target            24712 non-null int64\n",
      "dtypes: float64(5), int64(11)\n",
      "memory usage: 3.2+ MB\n"
     ]
    }
   ],
   "source": [
    "train_knn = df_preproc\n",
    "train_knn.info()"
   ]
  },
  {
   "cell_type": "code",
   "execution_count": 39,
   "metadata": {},
   "outputs": [
    {
     "data": {
      "text/html": [
       "<div>\n",
       "<style scoped>\n",
       "    .dataframe tbody tr th:only-of-type {\n",
       "        vertical-align: middle;\n",
       "    }\n",
       "\n",
       "    .dataframe tbody tr th {\n",
       "        vertical-align: top;\n",
       "    }\n",
       "\n",
       "    .dataframe thead th {\n",
       "        text-align: right;\n",
       "    }\n",
       "</style>\n",
       "<table border=\"1\" class=\"dataframe\">\n",
       "  <thead>\n",
       "    <tr style=\"text-align: right;\">\n",
       "      <th></th>\n",
       "      <th>age</th>\n",
       "      <th>default</th>\n",
       "      <th>housing</th>\n",
       "      <th>loan</th>\n",
       "      <th>contact</th>\n",
       "      <th>duration</th>\n",
       "      <th>campaign</th>\n",
       "      <th>pdays</th>\n",
       "      <th>previous</th>\n",
       "      <th>poutcome</th>\n",
       "      <th>emp.var.rate</th>\n",
       "      <th>cons.price.idx</th>\n",
       "      <th>cons.conf.idx</th>\n",
       "      <th>euribor3m</th>\n",
       "      <th>nr.employed</th>\n",
       "      <th>target</th>\n",
       "    </tr>\n",
       "    <tr>\n",
       "      <th>_id</th>\n",
       "      <th></th>\n",
       "      <th></th>\n",
       "      <th></th>\n",
       "      <th></th>\n",
       "      <th></th>\n",
       "      <th></th>\n",
       "      <th></th>\n",
       "      <th></th>\n",
       "      <th></th>\n",
       "      <th></th>\n",
       "      <th></th>\n",
       "      <th></th>\n",
       "      <th></th>\n",
       "      <th></th>\n",
       "      <th></th>\n",
       "      <th></th>\n",
       "    </tr>\n",
       "  </thead>\n",
       "  <tbody>\n",
       "    <tr>\n",
       "      <th>df7489733b004bbe40d3d37b34f82419</th>\n",
       "      <td>54</td>\n",
       "      <td>0</td>\n",
       "      <td>0</td>\n",
       "      <td>0</td>\n",
       "      <td>1</td>\n",
       "      <td>87</td>\n",
       "      <td>1</td>\n",
       "      <td>999</td>\n",
       "      <td>0</td>\n",
       "      <td>0</td>\n",
       "      <td>1.4</td>\n",
       "      <td>93.444</td>\n",
       "      <td>-36.1</td>\n",
       "      <td>4.963</td>\n",
       "      <td>5228.1</td>\n",
       "      <td>0</td>\n",
       "    </tr>\n",
       "    <tr>\n",
       "      <th>905a0b9a5456ee962223033473666be3</th>\n",
       "      <td>36</td>\n",
       "      <td>0</td>\n",
       "      <td>0</td>\n",
       "      <td>0</td>\n",
       "      <td>0</td>\n",
       "      <td>291</td>\n",
       "      <td>1</td>\n",
       "      <td>999</td>\n",
       "      <td>0</td>\n",
       "      <td>0</td>\n",
       "      <td>1.1</td>\n",
       "      <td>93.994</td>\n",
       "      <td>-36.4</td>\n",
       "      <td>4.857</td>\n",
       "      <td>5191.0</td>\n",
       "      <td>0</td>\n",
       "    </tr>\n",
       "    <tr>\n",
       "      <th>02d69c07ec6d68e31d641edd45ce61cd</th>\n",
       "      <td>53</td>\n",
       "      <td>0</td>\n",
       "      <td>1</td>\n",
       "      <td>0</td>\n",
       "      <td>1</td>\n",
       "      <td>182</td>\n",
       "      <td>1</td>\n",
       "      <td>999</td>\n",
       "      <td>0</td>\n",
       "      <td>0</td>\n",
       "      <td>1.4</td>\n",
       "      <td>93.444</td>\n",
       "      <td>-36.1</td>\n",
       "      <td>4.965</td>\n",
       "      <td>5228.1</td>\n",
       "      <td>0</td>\n",
       "    </tr>\n",
       "    <tr>\n",
       "      <th>e492fbe0cccaf67cdb5c0944dbc8a167</th>\n",
       "      <td>34</td>\n",
       "      <td>0</td>\n",
       "      <td>1</td>\n",
       "      <td>1</td>\n",
       "      <td>0</td>\n",
       "      <td>180</td>\n",
       "      <td>2</td>\n",
       "      <td>999</td>\n",
       "      <td>0</td>\n",
       "      <td>0</td>\n",
       "      <td>1.1</td>\n",
       "      <td>93.994</td>\n",
       "      <td>-36.4</td>\n",
       "      <td>4.857</td>\n",
       "      <td>5191.0</td>\n",
       "      <td>0</td>\n",
       "    </tr>\n",
       "    <tr>\n",
       "      <th>ac2dc6f5835bdea8e71dd99b65208d07</th>\n",
       "      <td>29</td>\n",
       "      <td>0</td>\n",
       "      <td>1</td>\n",
       "      <td>0</td>\n",
       "      <td>0</td>\n",
       "      <td>6</td>\n",
       "      <td>1</td>\n",
       "      <td>999</td>\n",
       "      <td>0</td>\n",
       "      <td>0</td>\n",
       "      <td>-1.7</td>\n",
       "      <td>94.027</td>\n",
       "      <td>-38.3</td>\n",
       "      <td>0.890</td>\n",
       "      <td>4991.6</td>\n",
       "      <td>0</td>\n",
       "    </tr>\n",
       "  </tbody>\n",
       "</table>\n",
       "</div>"
      ],
      "text/plain": [
       "                                  age  default  housing  loan  contact  \\\n",
       "_id                                                                      \n",
       "df7489733b004bbe40d3d37b34f82419   54        0        0     0        1   \n",
       "905a0b9a5456ee962223033473666be3   36        0        0     0        0   \n",
       "02d69c07ec6d68e31d641edd45ce61cd   53        0        1     0        1   \n",
       "e492fbe0cccaf67cdb5c0944dbc8a167   34        0        1     1        0   \n",
       "ac2dc6f5835bdea8e71dd99b65208d07   29        0        1     0        0   \n",
       "\n",
       "                                  duration  campaign  pdays  previous  \\\n",
       "_id                                                                     \n",
       "df7489733b004bbe40d3d37b34f82419        87         1    999         0   \n",
       "905a0b9a5456ee962223033473666be3       291         1    999         0   \n",
       "02d69c07ec6d68e31d641edd45ce61cd       182         1    999         0   \n",
       "e492fbe0cccaf67cdb5c0944dbc8a167       180         2    999         0   \n",
       "ac2dc6f5835bdea8e71dd99b65208d07         6         1    999         0   \n",
       "\n",
       "                                  poutcome  emp.var.rate  cons.price.idx  \\\n",
       "_id                                                                        \n",
       "df7489733b004bbe40d3d37b34f82419         0           1.4          93.444   \n",
       "905a0b9a5456ee962223033473666be3         0           1.1          93.994   \n",
       "02d69c07ec6d68e31d641edd45ce61cd         0           1.4          93.444   \n",
       "e492fbe0cccaf67cdb5c0944dbc8a167         0           1.1          93.994   \n",
       "ac2dc6f5835bdea8e71dd99b65208d07         0          -1.7          94.027   \n",
       "\n",
       "                                  cons.conf.idx  euribor3m  nr.employed  \\\n",
       "_id                                                                       \n",
       "df7489733b004bbe40d3d37b34f82419          -36.1      4.963       5228.1   \n",
       "905a0b9a5456ee962223033473666be3          -36.4      4.857       5191.0   \n",
       "02d69c07ec6d68e31d641edd45ce61cd          -36.1      4.965       5228.1   \n",
       "e492fbe0cccaf67cdb5c0944dbc8a167          -36.4      4.857       5191.0   \n",
       "ac2dc6f5835bdea8e71dd99b65208d07          -38.3      0.890       4991.6   \n",
       "\n",
       "                                  target  \n",
       "_id                                       \n",
       "df7489733b004bbe40d3d37b34f82419       0  \n",
       "905a0b9a5456ee962223033473666be3       0  \n",
       "02d69c07ec6d68e31d641edd45ce61cd       0  \n",
       "e492fbe0cccaf67cdb5c0944dbc8a167       0  \n",
       "ac2dc6f5835bdea8e71dd99b65208d07       0  "
      ]
     },
     "execution_count": 39,
     "metadata": {},
     "output_type": "execute_result"
    }
   ],
   "source": [
    "train_knn.head()"
   ]
  },
  {
   "cell_type": "code",
   "execution_count": 56,
   "metadata": {},
   "outputs": [],
   "source": [
    "X, y = train_knn.iloc[:, :-1].values, train_knn.iloc[:, -1].values"
   ]
  },
  {
   "cell_type": "code",
   "execution_count": 57,
   "metadata": {},
   "outputs": [],
   "source": [
    "from sklearn.neighbors import KNeighborsClassifier\n",
    "from sklearn.cross_validation import train_test_split"
   ]
  },
  {
   "cell_type": "code",
   "execution_count": 58,
   "metadata": {},
   "outputs": [],
   "source": [
    "X_train, X_test, y_train, y_test = \\\n",
    "train_test_split(X, y, test_size = 0.2, random_state = 88)"
   ]
  },
  {
   "cell_type": "code",
   "execution_count": 59,
   "metadata": {},
   "outputs": [],
   "source": [
    "from sklearn.preprocessing import StandardScaler \n",
    "# StandardScaler штука, которая нормирует данные.\n",
    "from sklearn.pipeline import Pipeline\n",
    "from sklearn.neighbors import KNeighborsClassifier\n",
    "from sklearn.model_selection import train_test_split"
   ]
  },
  {
   "cell_type": "code",
   "execution_count": 60,
   "metadata": {},
   "outputs": [],
   "source": [
    "model = Pipeline([\n",
    "    ('scaler', StandardScaler()),\n",
    "    ('knn', KNeighborsClassifier(n_neighbors=5))\n",
    "])"
   ]
  },
  {
   "cell_type": "code",
   "execution_count": 61,
   "metadata": {},
   "outputs": [
    {
     "data": {
      "text/plain": [
       "Pipeline(memory=None,\n",
       "     steps=[('scaler', StandardScaler(copy=True, with_mean=True, with_std=True)), ('knn', KNeighborsClassifier(algorithm='auto', leaf_size=30, metric='minkowski',\n",
       "           metric_params=None, n_jobs=1, n_neighbors=5, p=2,\n",
       "           weights='uniform'))])"
      ]
     },
     "execution_count": 61,
     "metadata": {},
     "output_type": "execute_result"
    }
   ],
   "source": [
    "model.fit(X_train, y_train)"
   ]
  },
  {
   "cell_type": "code",
   "execution_count": 62,
   "metadata": {},
   "outputs": [],
   "source": [
    "y_hat = model.predict(X_test)"
   ]
  },
  {
   "cell_type": "code",
   "execution_count": 63,
   "metadata": {},
   "outputs": [],
   "source": [
    "y_hat_proba = model.predict_proba(X_test)"
   ]
  },
  {
   "cell_type": "code",
   "execution_count": 64,
   "metadata": {},
   "outputs": [
    {
     "data": {
      "text/plain": [
       "(4943, 2)"
      ]
     },
     "execution_count": 64,
     "metadata": {},
     "output_type": "execute_result"
    }
   ],
   "source": [
    "y_hat_proba.shape"
   ]
  },
  {
   "cell_type": "code",
   "execution_count": 65,
   "metadata": {},
   "outputs": [
    {
     "data": {
      "text/plain": [
       "0.8737850191948605"
      ]
     },
     "execution_count": 65,
     "metadata": {},
     "output_type": "execute_result"
    }
   ],
   "source": [
    "from sklearn.metrics import roc_auc_score\n",
    "roc_auc_score(y_test, y_hat_proba[:, 1])"
   ]
  },
  {
   "cell_type": "code",
   "execution_count": null,
   "metadata": {},
   "outputs": [],
   "source": [
    "0.8737850191948605"
   ]
  },
  {
   "cell_type": "code",
   "execution_count": 96,
   "metadata": {},
   "outputs": [],
   "source": [
    "scores_test = []\n",
    "scores_train = []\n",
    "\n",
    "for k in range(1, 19):\n",
    "        \n",
    "    model = Pipeline([\n",
    "      ('scaler', StandardScaler()),\n",
    "      ('knn', KNeighborsClassifier(n_neighbors=k)) ])\n",
    "    \n",
    "    model.fit(X_train, y_train, )\n",
    "\n",
    "    y_hat_test = model.predict_proba(X_test)\n",
    "    scores_test.append(roc_auc_score(y_test, y_hat_test[:, 1]))\n",
    "\n",
    "    y_hat_train = model.predict_proba(X_train)\n",
    "    scores_train.append(roc_auc_score(y_train, y_hat_train[:, 1]))"
   ]
  },
  {
   "cell_type": "code",
   "execution_count": 97,
   "metadata": {},
   "outputs": [
    {
     "data": {
      "text/plain": [
       "<matplotlib.legend.Legend at 0xdbb7b38>"
      ]
     },
     "execution_count": 97,
     "metadata": {},
     "output_type": "execute_result"
    },
    {
     "data": {
      "image/png": "[encoded data removed]",
      "text/plain": [
       "<Figure size 432x288 with 1 Axes>"
      ]
     },
     "metadata": {},
     "output_type": "display_data"
    }
   ],
   "source": [
    "plt.plot(scores_test, label='test')\n",
    "plt.plot(scores_train, label='train')\n",
    "plt.legend()"
   ]
  },
  {
   "cell_type": "code",
   "execution_count": 50,
   "metadata": {},
   "outputs": [
    {
     "data": {
      "text/plain": [
       "0.9231522090411709"
      ]
     },
     "execution_count": 50,
     "metadata": {},
     "output_type": "execute_result"
    }
   ],
   "source": [
    "model_n = Pipeline([\n",
    "    ('scaler', StandardScaler()),\n",
    "    ('knn', KNeighborsClassifier(n_neighbors=15))\n",
    "])\n",
    "model_n.fit(X_train, y_train)\n",
    "y_hat_n = model_n.predict(X_test)\n",
    "y_hat_proba_n = model_n.predict_proba(X_test)\n",
    "roc_auc_score(y_test, y_hat_proba_n[:, 1])"
   ]
  },
  {
   "cell_type": "code",
   "execution_count": null,
   "metadata": {},
   "outputs": [],
   "source": [
    "scores_test = []\n",
    "scores_train = []\n",
    "\n",
    "for l in range(1, 10):\n",
    "        \n",
    "    model = Pipeline([\n",
    "      ('scaler', StandardScaler()),\n",
    "      ('knn', KNeighborsClassifier(n_neighbors=15, n_jobs=1, p=l)) ])\n",
    "    \n",
    "    model.fit(X_train, y_train, )\n",
    "\n",
    "    y_hat_test = model.predict_proba(X_test)\n",
    "    scores_test.append(roc_auc_score(y_test, y_hat_test[:, 1]))\n",
    "\n",
    "    y_hat_train = model.predict_proba(X_train)\n",
    "    scores_train.append(roc_auc_score(y_train, y_hat_train[:, 1]))"
   ]
  },
  {
   "cell_type": "code",
   "execution_count": 106,
   "metadata": {},
   "outputs": [
    {
     "data": {
      "text/plain": [
       "<matplotlib.legend.Legend at 0xdcfcb70>"
      ]
     },
     "execution_count": 106,
     "metadata": {},
     "output_type": "execute_result"
    },
    {
     "data": {
      "image/png": "[encoded data removed]",
      "text/plain": [
       "<Figure size 432x288 with 1 Axes>"
      ]
     },
     "metadata": {},
     "output_type": "display_data"
    }
   ],
   "source": [
    "plt.plot(scores_test, label='test')\n",
    "plt.plot(scores_train, label='train')\n",
    "plt.legend()"
   ]
  },
  {
   "cell_type": "code",
   "execution_count": 66,
   "metadata": {},
   "outputs": [
    {
     "data": {
      "text/plain": [
       "0.9251096441116176"
      ]
     },
     "execution_count": 66,
     "metadata": {},
     "output_type": "execute_result"
    }
   ],
   "source": [
    "model_n = Pipeline([\n",
    "    ('scaler', StandardScaler()),\n",
    "    ('knn', KNeighborsClassifier(algorithm = 'auto', metric='minkowski', n_neighbors=15, n_jobs=1, p=1))\n",
    "])\n",
    "model_n.fit(X_train, y_train)\n",
    "y_hat_n = model_n.predict(X_test)\n",
    "y_hat_proba_n = model_n.predict_proba(X_test)\n",
    "roc_auc_score(y_test, y_hat_proba_n[:, 1])"
   ]
  },
  {
   "cell_type": "code",
   "execution_count": 26,
   "metadata": {},
   "outputs": [],
   "source": [
    "#16 = 0.9266908533878275\n",
    "#17 = 0.9283834614078843"
   ]
  },
  {
   "cell_type": "code",
   "execution_count": 67,
   "metadata": {},
   "outputs": [
    {
     "name": "stdout",
     "output_type": "stream",
     "text": [
      "<class 'pandas.core.frame.DataFrame'>\n",
      "Index: 16476 entries, 66810d8e6bf2b41c880a7bc6c8a1e295 to 82db4c5dd22e8182b30917571fe77c4d\n",
      "Data columns (total 15 columns):\n",
      "age               16476 non-null int64\n",
      "default           16476 non-null int64\n",
      "housing           16476 non-null int64\n",
      "loan              16476 non-null int64\n",
      "contact           16476 non-null int64\n",
      "duration          16476 non-null int64\n",
      "campaign          16476 non-null int64\n",
      "pdays             16476 non-null int64\n",
      "previous          16476 non-null int64\n",
      "poutcome          16476 non-null int64\n",
      "emp.var.rate      16476 non-null float64\n",
      "cons.price.idx    16476 non-null float64\n",
      "cons.conf.idx     16476 non-null float64\n",
      "euribor3m         16476 non-null float64\n",
      "nr.employed       16476 non-null float64\n",
      "dtypes: float64(5), int64(10)\n",
      "memory usage: 2.0+ MB\n"
     ]
    },
    {
     "data": {
      "text/html": [
       "<div>\n",
       "<style scoped>\n",
       "    .dataframe tbody tr th:only-of-type {\n",
       "        vertical-align: middle;\n",
       "    }\n",
       "\n",
       "    .dataframe tbody tr th {\n",
       "        vertical-align: top;\n",
       "    }\n",
       "\n",
       "    .dataframe thead th {\n",
       "        text-align: right;\n",
       "    }\n",
       "</style>\n",
       "<table border=\"1\" class=\"dataframe\">\n",
       "  <thead>\n",
       "    <tr style=\"text-align: right;\">\n",
       "      <th></th>\n",
       "      <th>age</th>\n",
       "      <th>default</th>\n",
       "      <th>housing</th>\n",
       "      <th>loan</th>\n",
       "      <th>contact</th>\n",
       "      <th>duration</th>\n",
       "      <th>campaign</th>\n",
       "      <th>pdays</th>\n",
       "      <th>previous</th>\n",
       "      <th>poutcome</th>\n",
       "      <th>emp.var.rate</th>\n",
       "      <th>cons.price.idx</th>\n",
       "      <th>cons.conf.idx</th>\n",
       "      <th>euribor3m</th>\n",
       "      <th>nr.employed</th>\n",
       "    </tr>\n",
       "    <tr>\n",
       "      <th>_id</th>\n",
       "      <th></th>\n",
       "      <th></th>\n",
       "      <th></th>\n",
       "      <th></th>\n",
       "      <th></th>\n",
       "      <th></th>\n",
       "      <th></th>\n",
       "      <th></th>\n",
       "      <th></th>\n",
       "      <th></th>\n",
       "      <th></th>\n",
       "      <th></th>\n",
       "      <th></th>\n",
       "      <th></th>\n",
       "      <th></th>\n",
       "    </tr>\n",
       "  </thead>\n",
       "  <tbody>\n",
       "    <tr>\n",
       "      <th>66810d8e6bf2b41c880a7bc6c8a1e295</th>\n",
       "      <td>57</td>\n",
       "      <td>0</td>\n",
       "      <td>0</td>\n",
       "      <td>1</td>\n",
       "      <td>1</td>\n",
       "      <td>371</td>\n",
       "      <td>1</td>\n",
       "      <td>999</td>\n",
       "      <td>1</td>\n",
       "      <td>0</td>\n",
       "      <td>-1.8</td>\n",
       "      <td>92.893</td>\n",
       "      <td>-46.2</td>\n",
       "      <td>1.299</td>\n",
       "      <td>5099.1</td>\n",
       "    </tr>\n",
       "    <tr>\n",
       "      <th>ccac3879652b08cb8b44c1920fd93afa</th>\n",
       "      <td>55</td>\n",
       "      <td>0</td>\n",
       "      <td>1</td>\n",
       "      <td>0</td>\n",
       "      <td>0</td>\n",
       "      <td>285</td>\n",
       "      <td>2</td>\n",
       "      <td>999</td>\n",
       "      <td>0</td>\n",
       "      <td>0</td>\n",
       "      <td>1.1</td>\n",
       "      <td>93.994</td>\n",
       "      <td>-36.4</td>\n",
       "      <td>4.860</td>\n",
       "      <td>5191.0</td>\n",
       "    </tr>\n",
       "    <tr>\n",
       "      <th>fcccab4d7a76f70647f015f2c84c2af8</th>\n",
       "      <td>33</td>\n",
       "      <td>0</td>\n",
       "      <td>0</td>\n",
       "      <td>0</td>\n",
       "      <td>1</td>\n",
       "      <td>52</td>\n",
       "      <td>1</td>\n",
       "      <td>999</td>\n",
       "      <td>1</td>\n",
       "      <td>0</td>\n",
       "      <td>-1.8</td>\n",
       "      <td>92.893</td>\n",
       "      <td>-46.2</td>\n",
       "      <td>1.313</td>\n",
       "      <td>5099.1</td>\n",
       "    </tr>\n",
       "    <tr>\n",
       "      <th>ed8399278c30678dab739045fa12b440</th>\n",
       "      <td>36</td>\n",
       "      <td>0</td>\n",
       "      <td>0</td>\n",
       "      <td>0</td>\n",
       "      <td>0</td>\n",
       "      <td>355</td>\n",
       "      <td>4</td>\n",
       "      <td>999</td>\n",
       "      <td>0</td>\n",
       "      <td>0</td>\n",
       "      <td>1.4</td>\n",
       "      <td>94.465</td>\n",
       "      <td>-41.8</td>\n",
       "      <td>4.967</td>\n",
       "      <td>5228.1</td>\n",
       "    </tr>\n",
       "    <tr>\n",
       "      <th>1d4d62ac5cabcb48bac7112813f290cb</th>\n",
       "      <td>27</td>\n",
       "      <td>0</td>\n",
       "      <td>1</td>\n",
       "      <td>0</td>\n",
       "      <td>1</td>\n",
       "      <td>189</td>\n",
       "      <td>2</td>\n",
       "      <td>999</td>\n",
       "      <td>0</td>\n",
       "      <td>0</td>\n",
       "      <td>1.4</td>\n",
       "      <td>93.918</td>\n",
       "      <td>-42.7</td>\n",
       "      <td>4.963</td>\n",
       "      <td>5228.1</td>\n",
       "    </tr>\n",
       "  </tbody>\n",
       "</table>\n",
       "</div>"
      ],
      "text/plain": [
       "                                  age  default  housing  loan  contact  \\\n",
       "_id                                                                      \n",
       "66810d8e6bf2b41c880a7bc6c8a1e295   57        0        0     1        1   \n",
       "ccac3879652b08cb8b44c1920fd93afa   55        0        1     0        0   \n",
       "fcccab4d7a76f70647f015f2c84c2af8   33        0        0     0        1   \n",
       "ed8399278c30678dab739045fa12b440   36        0        0     0        0   \n",
       "1d4d62ac5cabcb48bac7112813f290cb   27        0        1     0        1   \n",
       "\n",
       "                                  duration  campaign  pdays  previous  \\\n",
       "_id                                                                     \n",
       "66810d8e6bf2b41c880a7bc6c8a1e295       371         1    999         1   \n",
       "ccac3879652b08cb8b44c1920fd93afa       285         2    999         0   \n",
       "fcccab4d7a76f70647f015f2c84c2af8        52         1    999         1   \n",
       "ed8399278c30678dab739045fa12b440       355         4    999         0   \n",
       "1d4d62ac5cabcb48bac7112813f290cb       189         2    999         0   \n",
       "\n",
       "                                  poutcome  emp.var.rate  cons.price.idx  \\\n",
       "_id                                                                        \n",
       "66810d8e6bf2b41c880a7bc6c8a1e295         0          -1.8          92.893   \n",
       "ccac3879652b08cb8b44c1920fd93afa         0           1.1          93.994   \n",
       "fcccab4d7a76f70647f015f2c84c2af8         0          -1.8          92.893   \n",
       "ed8399278c30678dab739045fa12b440         0           1.4          94.465   \n",
       "1d4d62ac5cabcb48bac7112813f290cb         0           1.4          93.918   \n",
       "\n",
       "                                  cons.conf.idx  euribor3m  nr.employed  \n",
       "_id                                                                      \n",
       "66810d8e6bf2b41c880a7bc6c8a1e295          -46.2      1.299       5099.1  \n",
       "ccac3879652b08cb8b44c1920fd93afa          -36.4      4.860       5191.0  \n",
       "fcccab4d7a76f70647f015f2c84c2af8          -46.2      1.313       5099.1  \n",
       "ed8399278c30678dab739045fa12b440          -41.8      4.967       5228.1  \n",
       "1d4d62ac5cabcb48bac7112813f290cb          -42.7      4.963       5228.1  "
      ]
     },
     "execution_count": 67,
     "metadata": {},
     "output_type": "execute_result"
    }
   ],
   "source": [
    "test = pd.read_csv('test.csv', index_col='_id');\n",
    "test_knn = test.pipe(preproc);\n",
    "test_knn.info()\n",
    "test_knn.head()"
   ]
  },
  {
   "cell_type": "code",
   "execution_count": null,
   "metadata": {},
   "outputs": [],
   "source": []
  },
  {
   "cell_type": "code",
   "execution_count": 68,
   "metadata": {},
   "outputs": [
    {
     "data": {
      "text/plain": [
       "array([0, 0, 0, ..., 0, 0, 0], dtype=int64)"
      ]
     },
     "execution_count": 68,
     "metadata": {},
     "output_type": "execute_result"
    }
   ],
   "source": [
    "res_knn = model_n.predict(test_knn);\n",
    "res_knn"
   ]
  },
  {
   "cell_type": "code",
   "execution_count": 70,
   "metadata": {},
   "outputs": [
    {
     "data": {
      "text/plain": [
       "0    15291\n",
       "1     1185\n",
       "Name: target, dtype: int64"
      ]
     },
     "execution_count": 70,
     "metadata": {},
     "output_type": "execute_result"
    }
   ],
   "source": [
    "test_out = test_knn.drop(['age', 'default', 'housing', 'loan', 'contact', 'duration', 'campaign', 'pdays', 'nr.employed'], axis=1)\n",
    "test_out = test_out.drop(['previous', 'poutcome', 'emp.var.rate', 'cons.price.idx', 'cons.conf.idx', 'euribor3m'], axis=1)\n",
    "test_out['target'] = res_knn\n",
    "test_out.loc[:, 'target'].value_counts()\n",
    "#test_out"
   ]
  },
  {
   "cell_type": "code",
   "execution_count": null,
   "metadata": {},
   "outputs": [],
   "source": []
  },
  {
   "cell_type": "code",
   "execution_count": 71,
   "metadata": {},
   "outputs": [],
   "source": [
    "test_out.to_csv('res_knn.csv')"
   ]
  },
  {
   "cell_type": "code",
   "execution_count": 66,
   "metadata": {},
   "outputs": [],
   "source": [
    "#df_preproc = df_preproc.drop(['job', 'marital', 'education', 'day_of_week', 'month'], axis = 1)"
   ]
  },
  {
   "cell_type": "markdown",
   "metadata": {},
   "source": [
    "# Деревья решений"
   ]
  },
  {
   "cell_type": "code",
   "execution_count": 2,
   "metadata": {},
   "outputs": [],
   "source": [
    "import pandas as pd\n",
    "import numpy as np\n",
    "import matplotlib.pyplot as plt\n",
    "from io import StringIO\n",
    "import pydot\n",
    "from IPython.display import Image\n",
    "from sklearn.tree import DecisionTreeClassifier\n",
    "from sklearn.tree import export_graphviz\n",
    "from ipywidgets import interact, IntSlider\n",
    "import subprocess\n",
    "\n",
    "%matplotlib inline\n",
    "\n",
    "plt.style.use('ggplot')\n",
    "plt.rcParams['figure.figsize'] = (18,12)\n",
    "\n",
    "from ipywidgets import interact, IntSlider, FloatSlider\n",
    "\n",
    "import os\n",
    "os.environ[\"PATH\"] += os.pathsep + 'C:\\ProgramData\\Anaconda3\\Library\\\\bin\\graphviz'"
   ]
  },
  {
   "cell_type": "code",
   "execution_count": 3,
   "metadata": {},
   "outputs": [
    {
     "name": "stdout",
     "output_type": "stream",
     "text": [
      "<class 'pandas.core.frame.DataFrame'>\n",
      "Index: 24712 entries, df7489733b004bbe40d3d37b34f82419 to 46d0d25dfd1def79632dd437261d0b5c\n",
      "Data columns (total 21 columns):\n",
      "age               24712 non-null int64\n",
      "job               24712 non-null object\n",
      "marital           24712 non-null object\n",
      "education         24712 non-null object\n",
      "default           24712 non-null object\n",
      "housing           24712 non-null object\n",
      "loan              24712 non-null object\n",
      "contact           24712 non-null object\n",
      "month             24712 non-null object\n",
      "day_of_week       24712 non-null object\n",
      "duration          24712 non-null int64\n",
      "campaign          24712 non-null int64\n",
      "pdays             24712 non-null int64\n",
      "previous          24712 non-null int64\n",
      "poutcome          24712 non-null object\n",
      "emp.var.rate      24712 non-null float64\n",
      "cons.price.idx    24712 non-null float64\n",
      "cons.conf.idx     24712 non-null float64\n",
      "euribor3m         24712 non-null float64\n",
      "nr.employed       24712 non-null float64\n",
      "target            24712 non-null int64\n",
      "dtypes: float64(5), int64(6), object(10)\n",
      "memory usage: 4.1+ MB\n"
     ]
    }
   ],
   "source": [
    "train = pd.read_csv('train.csv', index_col='_id');\n",
    "train.info()"
   ]
  },
  {
   "cell_type": "code",
   "execution_count": 83,
   "metadata": {},
   "outputs": [],
   "source": [
    "def preproc(df_init):\n",
    "    df_preproc = df_init.copy()\n",
    "    \n",
    "    df_preproc = df_preproc.drop(['month', 'day_of_week'], axis=1)\n",
    "    \n",
    "    df_preproc.loc[:, [\"poutcome\"]] = \\\n",
    "    df_preproc.loc[:, [\"poutcome\"]].replace({'failure': 0, 'nonexistent': 0, 'success': 1});\n",
    "    \n",
    "    df_preproc.loc[:, [\"contact\"]] = \\\n",
    "    df_preproc.loc[:, [\"contact\"]].replace({'telephone': 0, 'cellular': 1});\n",
    "    \n",
    "    df_preproc.loc[:, [\"default\", 'housing', 'loan']] = \\\n",
    "    df_preproc.loc[:, ['default', 'housing', 'loan']].replace({'no': 0, 'unknown':0, 'yes': 1})\n",
    "    \n",
    "    df_preproc.loc[:, [\"education\"]] = \\\n",
    "    df_preproc.loc[:, [\"education\"]].replace({'basic.4y': 1, 'basic.6y': 1.5, 'basic.9y': 2, 'high.school':3, \\\n",
    "                                             \"illiterate\": 4, \"professional.course\":5, \"university.degree\":6, \"unknown\":2});\n",
    "    \n",
    "    df_preproc.loc[:, [\"marital\"]] = \\\n",
    "    df_preproc.loc[:, [\"marital\"]].replace({\"divorced\":1, \"single\": 1, \"married\": 2, \"unknown\": 0});\n",
    "    \n",
    "    df_preproc.loc[:, [\"job\"]] = \\\n",
    "    df_preproc.loc[:, [\"job\"]].replace({\"admin.\": 1, \"blue-collar\": 1, \"entrepreneur\": 1, \"housemaid\":0, \\\n",
    "        \"management\": 1, \"retired\":0, \"self-employed\":0, \"services\":1, \"student\":0, \"technician\":1, \"unemployed\":0, \"unknown\":0});\n",
    "    \n",
    "        \n",
    "    return df_preproc"
   ]
  },
  {
   "cell_type": "code",
   "execution_count": 84,
   "metadata": {},
   "outputs": [
    {
     "name": "stdout",
     "output_type": "stream",
     "text": [
      "<class 'pandas.core.frame.DataFrame'>\n",
      "Index: 24712 entries, df7489733b004bbe40d3d37b34f82419 to 46d0d25dfd1def79632dd437261d0b5c\n",
      "Data columns (total 19 columns):\n",
      "age               24712 non-null int64\n",
      "job               24712 non-null int64\n",
      "marital           24712 non-null int64\n",
      "education         24712 non-null float64\n",
      "default           24712 non-null int64\n",
      "housing           24712 non-null int64\n",
      "loan              24712 non-null int64\n",
      "contact           24712 non-null int64\n",
      "duration          24712 non-null int64\n",
      "campaign          24712 non-null int64\n",
      "pdays             24712 non-null int64\n",
      "previous          24712 non-null int64\n",
      "poutcome          24712 non-null int64\n",
      "emp.var.rate      24712 non-null float64\n",
      "cons.price.idx    24712 non-null float64\n",
      "cons.conf.idx     24712 non-null float64\n",
      "euribor3m         24712 non-null float64\n",
      "nr.employed       24712 non-null float64\n",
      "target            24712 non-null int64\n",
      "dtypes: float64(6), int64(13)\n",
      "memory usage: 3.8+ MB\n"
     ]
    }
   ],
   "source": [
    "df_preproc = train.pipe(preproc)\n",
    "df_preproc.info()"
   ]
  },
  {
   "cell_type": "code",
   "execution_count": 85,
   "metadata": {},
   "outputs": [],
   "source": [
    "X, y = df_preproc.iloc[:, :-1].values, df_preproc.iloc[:, -1].values"
   ]
  },
  {
   "cell_type": "code",
   "execution_count": 86,
   "metadata": {},
   "outputs": [],
   "source": [
    "try:\n",
    "    from sklearn.model_selection import validation_curve\n",
    "except ImportError:\n",
    "    from sklearn.learning_curve import validation_curve\n",
    "\n",
    "try:\n",
    "    from sklearn.model_selection import StratifiedKFold\n",
    "except ImportError:\n",
    "    from sklearn.cross_validation import StratifiedKFold"
   ]
  },
  {
   "cell_type": "code",
   "execution_count": 93,
   "metadata": {},
   "outputs": [],
   "source": [
    "model = DecisionTreeClassifier(random_state=88)\n",
    "\n",
    "cv = StratifiedKFold(n_splits=5, shuffle=True, random_state=88)\n",
    "\n",
    "train_scores, valid_scores = validation_curve(model, X, y, \n",
    "                                              'max_depth', range(1, 12),\n",
    "                                              cv=cv, scoring='roc_auc')"
   ]
  },
  {
   "cell_type": "code",
   "execution_count": 94,
   "metadata": {},
   "outputs": [
    {
     "name": "stdout",
     "output_type": "stream",
     "text": [
      "(19, 5)\n"
     ]
    },
    {
     "data": {
      "text/plain": [
       "(19, 5)"
      ]
     },
     "execution_count": 94,
     "metadata": {},
     "output_type": "execute_result"
    }
   ],
   "source": [
    "print(train_scores.shape);\n",
    "valid_scores.shape"
   ]
  },
  {
   "cell_type": "code",
   "execution_count": 95,
   "metadata": {},
   "outputs": [
    {
     "data": {
      "text/plain": [
       "Text(0,0.5,'ROC AUC')"
      ]
     },
     "execution_count": 95,
     "metadata": {},
     "output_type": "execute_result"
    },
    {
     "data": {
      "image/png": "[encoded data removed]",
      "text/plain": [
       "<Figure size 1296x864 with 1 Axes>"
      ]
     },
     "metadata": {},
     "output_type": "display_data"
    }
   ],
   "source": [
    "train_score_mean = train_scores.mean(axis=1)\n",
    "train_score_std = train_scores.std(axis=1)\n",
    "valid_scores_mean = valid_scores.mean(axis=1)\n",
    "valid_scores_std = valid_scores.std(axis=1)\n",
    "\n",
    "plt.fill_between(range(1,20), train_score_mean-train_score_std, train_score_mean+train_score_std, color='b',\n",
    "                 interpolate=True, alpha=0.5,)\n",
    "plt.fill_between(range(1,20), valid_scores_mean-valid_scores_std, valid_scores_mean+valid_scores_std, color='r', \n",
    "                 interpolate=True, alpha=0.5)\n",
    "\n",
    "plt.plot(range(1,20), train_score_mean, c='b', lw=2)\n",
    "plt.plot(range(1,20), valid_scores_mean, c='r', lw=2)\n",
    "\n",
    "plt.xlabel('max depth')\n",
    "plt.ylabel('ROC AUC')"
   ]
  },
  {
   "cell_type": "code",
   "execution_count": 96,
   "metadata": {},
   "outputs": [],
   "source": [
    "from scipy.stats import randint as randint\n",
    "from scipy.stats import uniform\n",
    "\n",
    "try:\n",
    "    from sklearn.model_selection import GridSearchCV\n",
    "    from sklearn.model_selection import RandomizedSearchCV\n",
    "    from sklearn.model_selection import StratifiedKFold\n",
    "except ImportError:\n",
    "    from sklearn.cross_validation import GridSearchCV\n",
    "    from sklearn.cross_validation import RandomizedSearchCV\n",
    "    from sklearn.cross_validation import StratifiedKFold\n",
    "\n",
    "\n",
    "RND_SEED = 123"
   ]
  },
  {
   "cell_type": "code",
   "execution_count": 97,
   "metadata": {},
   "outputs": [
    {
     "data": {
      "text/plain": [
       "RandomizedSearchCV(cv=StratifiedKFold(n_splits=5, random_state=123, shuffle=True),\n",
       "          error_score='raise',\n",
       "          estimator=DecisionTreeClassifier(class_weight=None, criterion='gini', max_depth=None,\n",
       "            max_features=None, max_leaf_nodes=None,\n",
       "            min_impurity_decrease=0.0, min_impurity_split=None,\n",
       "            min_samples_leaf=1, min_samples_split=2,\n",
       "            min_weight_fraction_leaf=0.0, presort=False, random_state=123,\n",
       "            splitter='best'),\n",
       "          fit_params=None, iid=True, n_iter=200, n_jobs=-1,\n",
       "          param_distributions={'criterion': ['gini', 'entropy'], 'max_depth': <scipy.stats._distn_infrastructure.rv_frozen object at 0x000000000AF3B940>, 'min_samples_leaf': <scipy.stats._distn_infrastructure.rv_frozen object at 0x000000000AF3B550>, 'class_weight': [None, 'balanced']},\n",
       "          pre_dispatch='2*n_jobs', random_state=123, refit=True,\n",
       "          return_train_score='warn', scoring='roc_auc', verbose=0)"
      ]
     },
     "execution_count": 97,
     "metadata": {},
     "output_type": "execute_result"
    }
   ],
   "source": [
    "# Определим пространство поиска\n",
    "\n",
    "param_grid = {\n",
    "    'criterion': ['gini', 'entropy'],\n",
    "    'max_depth': randint(2, 8),\n",
    "    'min_samples_leaf': randint(5, 10),\n",
    "    'class_weight': [None, 'balanced']}\n",
    "\n",
    "# Некоторые параметры мы задали не простым перечислением значений, а \n",
    "# с помощью распределений.\n",
    "\n",
    "# Будем делать 200 запусков поиска\n",
    "cv = StratifiedKFold(n_splits=5, random_state=123, shuffle=True)\n",
    "\n",
    "model = DecisionTreeClassifier(random_state=123)\n",
    "random_search = RandomizedSearchCV(model, param_distributions=param_grid, n_iter=200, n_jobs=-1,\n",
    "                                   cv=cv, scoring='roc_auc', random_state=123)\n",
    "# А дальше, просто .fit()\n",
    "random_search.fit(X, y)"
   ]
  },
  {
   "cell_type": "code",
   "execution_count": 98,
   "metadata": {},
   "outputs": [
    {
     "data": {
      "text/plain": [
       "{'class_weight': 'balanced',\n",
       " 'criterion': 'entropy',\n",
       " 'max_depth': 6,\n",
       " 'min_samples_leaf': 7}"
      ]
     },
     "execution_count": 98,
     "metadata": {},
     "output_type": "execute_result"
    }
   ],
   "source": [
    "random_search.best_params_"
   ]
  },
  {
   "cell_type": "code",
   "execution_count": 99,
   "metadata": {},
   "outputs": [
    {
     "data": {
      "text/plain": [
       "0.9366458892627989"
      ]
     },
     "execution_count": 99,
     "metadata": {},
     "output_type": "execute_result"
    }
   ],
   "source": [
    "random_search.best_score_\n",
    "#0.9366458892627989"
   ]
  },
  {
   "cell_type": "code",
   "execution_count": 100,
   "metadata": {},
   "outputs": [
    {
     "data": {
      "text/plain": [
       "DecisionTreeClassifier(class_weight='balanced', criterion='entropy',\n",
       "            max_depth=6, max_features=None, max_leaf_nodes=None,\n",
       "            min_impurity_decrease=0.0, min_impurity_split=None,\n",
       "            min_samples_leaf=7, min_samples_split=2,\n",
       "            min_weight_fraction_leaf=0.0, presort=False, random_state=123,\n",
       "            splitter='best')"
      ]
     },
     "execution_count": 100,
     "metadata": {},
     "output_type": "execute_result"
    }
   ],
   "source": [
    "best_model = random_search.best_estimator_;\n",
    "best_model"
   ]
  },
  {
   "cell_type": "code",
   "execution_count": 101,
   "metadata": {},
   "outputs": [
    {
     "name": "stdout",
     "output_type": "stream",
     "text": [
      "<class 'pandas.core.frame.DataFrame'>\n",
      "Index: 16476 entries, 66810d8e6bf2b41c880a7bc6c8a1e295 to 82db4c5dd22e8182b30917571fe77c4d\n",
      "Data columns (total 18 columns):\n",
      "age               16476 non-null int64\n",
      "job               16476 non-null int64\n",
      "marital           16476 non-null int64\n",
      "education         16476 non-null float64\n",
      "default           16476 non-null int64\n",
      "housing           16476 non-null int64\n",
      "loan              16476 non-null int64\n",
      "contact           16476 non-null int64\n",
      "duration          16476 non-null int64\n",
      "campaign          16476 non-null int64\n",
      "pdays             16476 non-null int64\n",
      "previous          16476 non-null int64\n",
      "poutcome          16476 non-null int64\n",
      "emp.var.rate      16476 non-null float64\n",
      "cons.price.idx    16476 non-null float64\n",
      "cons.conf.idx     16476 non-null float64\n",
      "euribor3m         16476 non-null float64\n",
      "nr.employed       16476 non-null float64\n",
      "dtypes: float64(6), int64(12)\n",
      "memory usage: 2.4+ MB\n"
     ]
    },
    {
     "data": {
      "text/html": [
       "<div>\n",
       "<style scoped>\n",
       "    .dataframe tbody tr th:only-of-type {\n",
       "        vertical-align: middle;\n",
       "    }\n",
       "\n",
       "    .dataframe tbody tr th {\n",
       "        vertical-align: top;\n",
       "    }\n",
       "\n",
       "    .dataframe thead th {\n",
       "        text-align: right;\n",
       "    }\n",
       "</style>\n",
       "<table border=\"1\" class=\"dataframe\">\n",
       "  <thead>\n",
       "    <tr style=\"text-align: right;\">\n",
       "      <th></th>\n",
       "      <th>age</th>\n",
       "      <th>job</th>\n",
       "      <th>marital</th>\n",
       "      <th>education</th>\n",
       "      <th>default</th>\n",
       "      <th>housing</th>\n",
       "      <th>loan</th>\n",
       "      <th>contact</th>\n",
       "      <th>duration</th>\n",
       "      <th>campaign</th>\n",
       "      <th>pdays</th>\n",
       "      <th>previous</th>\n",
       "      <th>poutcome</th>\n",
       "      <th>emp.var.rate</th>\n",
       "      <th>cons.price.idx</th>\n",
       "      <th>cons.conf.idx</th>\n",
       "      <th>euribor3m</th>\n",
       "      <th>nr.employed</th>\n",
       "    </tr>\n",
       "    <tr>\n",
       "      <th>_id</th>\n",
       "      <th></th>\n",
       "      <th></th>\n",
       "      <th></th>\n",
       "      <th></th>\n",
       "      <th></th>\n",
       "      <th></th>\n",
       "      <th></th>\n",
       "      <th></th>\n",
       "      <th></th>\n",
       "      <th></th>\n",
       "      <th></th>\n",
       "      <th></th>\n",
       "      <th></th>\n",
       "      <th></th>\n",
       "      <th></th>\n",
       "      <th></th>\n",
       "      <th></th>\n",
       "      <th></th>\n",
       "    </tr>\n",
       "  </thead>\n",
       "  <tbody>\n",
       "    <tr>\n",
       "      <th>66810d8e6bf2b41c880a7bc6c8a1e295</th>\n",
       "      <td>57</td>\n",
       "      <td>1</td>\n",
       "      <td>2</td>\n",
       "      <td>3.0</td>\n",
       "      <td>0</td>\n",
       "      <td>0</td>\n",
       "      <td>1</td>\n",
       "      <td>1</td>\n",
       "      <td>371</td>\n",
       "      <td>1</td>\n",
       "      <td>999</td>\n",
       "      <td>1</td>\n",
       "      <td>0</td>\n",
       "      <td>-1.8</td>\n",
       "      <td>92.893</td>\n",
       "      <td>-46.2</td>\n",
       "      <td>1.299</td>\n",
       "      <td>5099.1</td>\n",
       "    </tr>\n",
       "    <tr>\n",
       "      <th>ccac3879652b08cb8b44c1920fd93afa</th>\n",
       "      <td>55</td>\n",
       "      <td>0</td>\n",
       "      <td>2</td>\n",
       "      <td>2.0</td>\n",
       "      <td>0</td>\n",
       "      <td>1</td>\n",
       "      <td>0</td>\n",
       "      <td>0</td>\n",
       "      <td>285</td>\n",
       "      <td>2</td>\n",
       "      <td>999</td>\n",
       "      <td>0</td>\n",
       "      <td>0</td>\n",
       "      <td>1.1</td>\n",
       "      <td>93.994</td>\n",
       "      <td>-36.4</td>\n",
       "      <td>4.860</td>\n",
       "      <td>5191.0</td>\n",
       "    </tr>\n",
       "    <tr>\n",
       "      <th>fcccab4d7a76f70647f015f2c84c2af8</th>\n",
       "      <td>33</td>\n",
       "      <td>1</td>\n",
       "      <td>2</td>\n",
       "      <td>2.0</td>\n",
       "      <td>0</td>\n",
       "      <td>0</td>\n",
       "      <td>0</td>\n",
       "      <td>1</td>\n",
       "      <td>52</td>\n",
       "      <td>1</td>\n",
       "      <td>999</td>\n",
       "      <td>1</td>\n",
       "      <td>0</td>\n",
       "      <td>-1.8</td>\n",
       "      <td>92.893</td>\n",
       "      <td>-46.2</td>\n",
       "      <td>1.313</td>\n",
       "      <td>5099.1</td>\n",
       "    </tr>\n",
       "    <tr>\n",
       "      <th>ed8399278c30678dab739045fa12b440</th>\n",
       "      <td>36</td>\n",
       "      <td>1</td>\n",
       "      <td>2</td>\n",
       "      <td>3.0</td>\n",
       "      <td>0</td>\n",
       "      <td>0</td>\n",
       "      <td>0</td>\n",
       "      <td>0</td>\n",
       "      <td>355</td>\n",
       "      <td>4</td>\n",
       "      <td>999</td>\n",
       "      <td>0</td>\n",
       "      <td>0</td>\n",
       "      <td>1.4</td>\n",
       "      <td>94.465</td>\n",
       "      <td>-41.8</td>\n",
       "      <td>4.967</td>\n",
       "      <td>5228.1</td>\n",
       "    </tr>\n",
       "    <tr>\n",
       "      <th>1d4d62ac5cabcb48bac7112813f290cb</th>\n",
       "      <td>27</td>\n",
       "      <td>0</td>\n",
       "      <td>2</td>\n",
       "      <td>3.0</td>\n",
       "      <td>0</td>\n",
       "      <td>1</td>\n",
       "      <td>0</td>\n",
       "      <td>1</td>\n",
       "      <td>189</td>\n",
       "      <td>2</td>\n",
       "      <td>999</td>\n",
       "      <td>0</td>\n",
       "      <td>0</td>\n",
       "      <td>1.4</td>\n",
       "      <td>93.918</td>\n",
       "      <td>-42.7</td>\n",
       "      <td>4.963</td>\n",
       "      <td>5228.1</td>\n",
       "    </tr>\n",
       "  </tbody>\n",
       "</table>\n",
       "</div>"
      ],
      "text/plain": [
       "                                  age  job  marital  education  default  \\\n",
       "_id                                                                       \n",
       "66810d8e6bf2b41c880a7bc6c8a1e295   57    1        2        3.0        0   \n",
       "ccac3879652b08cb8b44c1920fd93afa   55    0        2        2.0        0   \n",
       "fcccab4d7a76f70647f015f2c84c2af8   33    1        2        2.0        0   \n",
       "ed8399278c30678dab739045fa12b440   36    1        2        3.0        0   \n",
       "1d4d62ac5cabcb48bac7112813f290cb   27    0        2        3.0        0   \n",
       "\n",
       "                                  housing  loan  contact  duration  campaign  \\\n",
       "_id                                                                            \n",
       "66810d8e6bf2b41c880a7bc6c8a1e295        0     1        1       371         1   \n",
       "ccac3879652b08cb8b44c1920fd93afa        1     0        0       285         2   \n",
       "fcccab4d7a76f70647f015f2c84c2af8        0     0        1        52         1   \n",
       "ed8399278c30678dab739045fa12b440        0     0        0       355         4   \n",
       "1d4d62ac5cabcb48bac7112813f290cb        1     0        1       189         2   \n",
       "\n",
       "                                  pdays  previous  poutcome  emp.var.rate  \\\n",
       "_id                                                                         \n",
       "66810d8e6bf2b41c880a7bc6c8a1e295    999         1         0          -1.8   \n",
       "ccac3879652b08cb8b44c1920fd93afa    999         0         0           1.1   \n",
       "fcccab4d7a76f70647f015f2c84c2af8    999         1         0          -1.8   \n",
       "ed8399278c30678dab739045fa12b440    999         0         0           1.4   \n",
       "1d4d62ac5cabcb48bac7112813f290cb    999         0         0           1.4   \n",
       "\n",
       "                                  cons.price.idx  cons.conf.idx  euribor3m  \\\n",
       "_id                                                                          \n",
       "66810d8e6bf2b41c880a7bc6c8a1e295          92.893          -46.2      1.299   \n",
       "ccac3879652b08cb8b44c1920fd93afa          93.994          -36.4      4.860   \n",
       "fcccab4d7a76f70647f015f2c84c2af8          92.893          -46.2      1.313   \n",
       "ed8399278c30678dab739045fa12b440          94.465          -41.8      4.967   \n",
       "1d4d62ac5cabcb48bac7112813f290cb          93.918          -42.7      4.963   \n",
       "\n",
       "                                  nr.employed  \n",
       "_id                                            \n",
       "66810d8e6bf2b41c880a7bc6c8a1e295       5099.1  \n",
       "ccac3879652b08cb8b44c1920fd93afa       5191.0  \n",
       "fcccab4d7a76f70647f015f2c84c2af8       5099.1  \n",
       "ed8399278c30678dab739045fa12b440       5228.1  \n",
       "1d4d62ac5cabcb48bac7112813f290cb       5228.1  "
      ]
     },
     "execution_count": 101,
     "metadata": {},
     "output_type": "execute_result"
    }
   ],
   "source": [
    "test = pd.read_csv('test.csv', index_col='_id');\n",
    "test_tree = test.pipe(preproc);\n",
    "test_tree.info()\n",
    "test_tree.head()"
   ]
  },
  {
   "cell_type": "code",
   "execution_count": 102,
   "metadata": {},
   "outputs": [
    {
     "data": {
      "text/plain": [
       "array([0, 0, 0, ..., 0, 0, 0], dtype=int64)"
      ]
     },
     "execution_count": 102,
     "metadata": {},
     "output_type": "execute_result"
    }
   ],
   "source": [
    "res_tree = best_model.predict(test_tree);\n",
    "res_tree"
   ]
  },
  {
   "cell_type": "code",
   "execution_count": 107,
   "metadata": {},
   "outputs": [
    {
     "data": {
      "text/plain": [
       "0    12289\n",
       "1     4187\n",
       "Name: target, dtype: int64"
      ]
     },
     "execution_count": 107,
     "metadata": {},
     "output_type": "execute_result"
    }
   ],
   "source": [
    "test_out = test_tree.drop(['age', 'default', 'housing', 'loan', 'contact', 'duration', 'campaign', 'pdays', 'nr.employed'], axis=1)\n",
    "test_out = test_out.drop(['previous', 'poutcome', 'emp.var.rate', 'cons.price.idx', 'cons.conf.idx', 'euribor3m'], axis=1)\n",
    "test_out = test_out.drop(['job', 'marital', 'education'], axis=1)\n",
    "test_out['target'] = res_tree\n",
    "test_out.loc[:, 'target'].value_counts()\n",
    "#test_out"
   ]
  },
  {
   "cell_type": "code",
   "execution_count": 108,
   "metadata": {},
   "outputs": [],
   "source": [
    "test_out.to_csv('res_tree.csv')"
   ]
  },
  {
   "cell_type": "markdown",
   "metadata": {},
   "source": [
    "Важность признаков"
   ]
  },
  {
   "cell_type": "code",
   "execution_count": 109,
   "metadata": {},
   "outputs": [],
   "source": [
    "model = random_search.best_estimator_\n",
    "imp = model.feature_importances_"
   ]
  },
  {
   "cell_type": "code",
   "execution_count": 110,
   "metadata": {},
   "outputs": [
    {
     "data": {
      "text/plain": [
       "education         0.000000\n",
       "default           0.000000\n",
       "loan              0.000000\n",
       "housing           0.000042\n",
       "campaign          0.000214\n",
       "marital           0.000349\n",
       "poutcome          0.001209\n",
       "job               0.001611\n",
       "age               0.002026\n",
       "contact           0.002083\n",
       "previous          0.003128\n",
       "cons.price.idx    0.005880\n",
       "pdays             0.008187\n",
       "euribor3m         0.044857\n",
       "emp.var.rate      0.064771\n",
       "cons.conf.idx     0.083324\n",
       "nr.employed       0.271329\n",
       "duration          0.510990\n",
       "dtype: float64"
      ]
     },
     "execution_count": 110,
     "metadata": {},
     "output_type": "execute_result"
    }
   ],
   "source": [
    "pd.Series(index=df_preproc.columns[:-1], data = imp).sort_values()"
   ]
  },
  {
   "cell_type": "markdown",
   "metadata": {},
   "source": [
    "# Деревья решений 2"
   ]
  },
  {
   "cell_type": "code",
   "execution_count": 2,
   "metadata": {},
   "outputs": [],
   "source": [
    "import pandas as pd\n",
    "import numpy as np\n",
    "import matplotlib.pyplot as plt\n",
    "from io import StringIO\n",
    "import pydot\n",
    "from IPython.display import Image\n",
    "from sklearn.tree import DecisionTreeClassifier\n",
    "from sklearn.tree import export_graphviz\n",
    "from ipywidgets import interact, IntSlider\n",
    "import subprocess\n",
    "from sklearn.ensemble import RandomForestClassifier\n",
    "\n",
    "%matplotlib inline\n",
    "\n",
    "plt.style.use('ggplot')\n",
    "plt.rcParams['figure.figsize'] = (18,12)\n",
    "\n",
    "from ipywidgets import interact, IntSlider, FloatSlider\n",
    "\n",
    "import os\n",
    "os.environ[\"PATH\"] += os.pathsep + 'C:\\ProgramData\\Anaconda3\\Library\\\\bin\\graphviz'"
   ]
  },
  {
   "cell_type": "code",
   "execution_count": 206,
   "metadata": {},
   "outputs": [],
   "source": [
    "train = pd.read_csv('train.csv', index_col='_id');\n",
    "#train.info()"
   ]
  },
  {
   "cell_type": "code",
   "execution_count": 207,
   "metadata": {},
   "outputs": [],
   "source": [
    "def preproc(df_init):\n",
    "    df_preproc = df_init.copy()\n",
    "    # убираю больше столбцов\n",
    "    df_preproc = df_preproc.drop(['month', \"contact\", 'day_of_week', \"default\", \"education\", 'loan', 'job', 'housing', 'poutcome', 'marital'], axis=1)\n",
    "    \n",
    "    #df_preproc = pd.get_dummies(df_preproc, columns=[])\n",
    "    \n",
    "    #df_preproc.loc[:, [\"poutcome\"]] = \\\n",
    "    #df_preproc.loc[:, [\"poutcome\"]].replace({'failure': 0, 'nonexistent': 0, 'success': 1});\n",
    "    \n",
    "    #df_preproc.loc[:, [\"contact\"]] = \\\n",
    "    #df_preproc.loc[:, [\"contact\"]].replace({'telephone': 1, 'cellular': 0});\n",
    "    \n",
    "    #df_preproc.loc[:, ['housing']] = \\\n",
    "    #df_preproc.loc[:, ['housing']].replace({'no': 0, 'unknown':0, 'yes': 1})\n",
    "    \n",
    "    df_preproc.loc[df_preproc['duration'] < 200 , 'duration'] = 0\n",
    "    \n",
    "        \n",
    "    #df_preproc.loc[:, [\"marital\"]] = \\\n",
    "    #df_preproc.loc[:, [\"marital\"]].replace({\"divorced\":1, \"single\": 1, \"married\": 1, \"unknown\": 0});\n",
    "    \n",
    "    #df_preproc.loc[:, [\"job\"]] = \\\n",
    "    #df_preproc.loc[:, [\"job\"]].replace({\"admin.\": 2, \"blue-collar\": 1, \"entrepreneur\": 1, \"housemaid\":0, \\\n",
    "        #\"management\": 3, \"retired\":1, \"self-employed\":0, \"services\":1, \"student\":0, \"technician\":1, \"unemployed\":0, \"unknown\":0});\n",
    "    \n",
    "        \n",
    "    return df_preproc"
   ]
  },
  {
   "cell_type": "code",
   "execution_count": 208,
   "metadata": {},
   "outputs": [
    {
     "data": {
      "text/plain": [
       "age                 37.000\n",
       "duration           442.000\n",
       "campaign             2.000\n",
       "pdays              999.000\n",
       "previous             0.000\n",
       "emp.var.rate        -1.800\n",
       "cons.price.idx      93.200\n",
       "cons.conf.idx      -40.400\n",
       "euribor3m            1.266\n",
       "nr.employed       5099.100\n",
       "target               1.000\n",
       "dtype: float64"
      ]
     },
     "execution_count": 208,
     "metadata": {},
     "output_type": "execute_result"
    }
   ],
   "source": [
    "train[train['target'] == 1].median()"
   ]
  },
  {
   "cell_type": "code",
   "execution_count": 209,
   "metadata": {},
   "outputs": [],
   "source": [
    "df_preproc = train.pipe(preproc)\n",
    "#df_preproc.info()"
   ]
  },
  {
   "cell_type": "code",
   "execution_count": 210,
   "metadata": {},
   "outputs": [
    {
     "data": {
      "text/plain": [
       "age                 40.825619\n",
       "duration           530.140294\n",
       "campaign             2.049157\n",
       "pdays              794.471834\n",
       "previous             0.486545\n",
       "emp.var.rate        -1.230858\n",
       "cons.price.idx      93.362048\n",
       "cons.conf.idx      -39.837890\n",
       "euribor3m            2.124053\n",
       "nr.employed       5094.789056\n",
       "target               1.000000\n",
       "dtype: float64"
      ]
     },
     "execution_count": 210,
     "metadata": {},
     "output_type": "execute_result"
    }
   ],
   "source": [
    "df_preproc[df_preproc['target'] == 1].mean()"
   ]
  },
  {
   "cell_type": "markdown",
   "metadata": {},
   "source": [
    "count    24712.000000\n",
    "mean       258.345298\n",
    "std        261.573344\n",
    "min          0.000000\n",
    "25%        102.000000\n",
    "50%        180.000000\n",
    "75%        319.000000\n",
    "max       4918.000000\n",
    "Name: duration, dtype: float64"
   ]
  },
  {
   "cell_type": "code",
   "execution_count": 211,
   "metadata": {},
   "outputs": [],
   "source": [
    "X, y = df_preproc.iloc[:, :-1].values, df_preproc.iloc[:, -1].values"
   ]
  },
  {
   "cell_type": "code",
   "execution_count": 212,
   "metadata": {},
   "outputs": [],
   "source": [
    "from scipy.stats import randint as randint\n",
    "from scipy.stats import uniform\n",
    "from sklearn.model_selection import StratifiedShuffleSplit\n",
    "\n",
    "try:\n",
    "    from sklearn.model_selection import GridSearchCV\n",
    "    from sklearn.model_selection import RandomizedSearchCV\n",
    "    from sklearn.model_selection import StratifiedKFold\n",
    "except ImportError:\n",
    "    from sklearn.cross_validation import GridSearchCV\n",
    "    from sklearn.cross_validation import RandomizedSearchCV\n",
    "    from sklearn.cross_validation import StratifiedKFold\n",
    "    \n",
    "\n",
    "RND_SEED = 11"
   ]
  },
  {
   "cell_type": "code",
   "execution_count": 228,
   "metadata": {},
   "outputs": [
    {
     "data": {
      "text/plain": [
       "RandomizedSearchCV(cv=StratifiedKFold(n_splits=4, random_state=11, shuffle=True),\n",
       "          error_score='raise',\n",
       "          estimator=DecisionTreeClassifier(class_weight=None, criterion='gini', max_depth=None,\n",
       "            max_features=None, max_leaf_nodes=None,\n",
       "            min_impurity_decrease=0.0, min_impurity_split=None,\n",
       "            min_samples_leaf=1, min_samples_split=2,\n",
       "            min_weight_fraction_leaf=0.0, presort=False, random_state=11,\n",
       "            splitter='best'),\n",
       "          fit_params=None, iid=True, n_iter=200, n_jobs=-1,\n",
       "          param_distributions={'criterion': ['gini', 'entropy'], 'max_depth': <scipy.stats._distn_infrastructure.rv_frozen object at 0x000000000B826F60>, 'min_samples_leaf': <scipy.stats._distn_infrastructure.rv_frozen object at 0x000000000B826D68>, 'class_weight': [None, 'balanced']},\n",
       "          pre_dispatch='2*n_jobs', random_state=11, refit=True,\n",
       "          return_train_score='warn', scoring='roc_auc', verbose=0)"
      ]
     },
     "execution_count": 228,
     "metadata": {},
     "output_type": "execute_result"
    }
   ],
   "source": [
    "# старый вариант\n",
    "param_grid = {\n",
    "    'criterion': ['gini', 'entropy'],\n",
    "    'max_depth': randint(2, 10),\n",
    "    'min_samples_leaf': randint(3, 12),\n",
    "    #'min_samples_split': randint(3, 10),\n",
    "    #'max_features': ['auto', 'sqrt', 'log2'],\n",
    "    #'random_state': randint(2,200),\n",
    "    #'min_impurity_decrease': randint(2, 10),\n",
    "    'class_weight': [None, 'balanced']}\n",
    "\n",
    "# Некоторые параметры мы задали не простым перечислением значений, а \n",
    "# с помощью распределений.\n",
    "\n",
    "# Будем делать 200 запусков поиска\n",
    "cv = StratifiedKFold(n_splits=4, random_state=11, shuffle=True)\n",
    "#cv = StratifiedShuffleSplit(n_splits=6, test_size=0.25, random_state=42)\n",
    "\n",
    "model = DecisionTreeClassifier(random_state=11)\n",
    "random_search = RandomizedSearchCV(model, param_distributions=param_grid, n_iter=200, n_jobs=-1,\n",
    "                                   cv=cv, scoring='roc_auc', random_state=11)\n",
    "# А дальше, просто .fit()\n",
    "random_search.fit(X, y)"
   ]
  },
  {
   "cell_type": "code",
   "execution_count": 229,
   "metadata": {},
   "outputs": [
    {
     "name": "stdout",
     "output_type": "stream",
     "text": [
      "{'class_weight': 'balanced', 'criterion': 'entropy', 'max_depth': 7, 'min_samples_leaf': 10}\n",
      "0.9330968469469165\n"
     ]
    }
   ],
   "source": [
    "print (random_search.best_params_);\n",
    "print (random_search.best_score_)\n",
    "#0.9368597034664192\n",
    "#0.9382504406387026\n",
    "# n_splits=6 0.9395784805071703\n",
    "# n_splits=7 0.9396855904226843"
   ]
  },
  {
   "cell_type": "code",
   "execution_count": 230,
   "metadata": {},
   "outputs": [
    {
     "data": {
      "text/plain": [
       "DecisionTreeClassifier(class_weight='balanced', criterion='entropy',\n",
       "            max_depth=7, max_features=None, max_leaf_nodes=None,\n",
       "            min_impurity_decrease=0.0, min_impurity_split=None,\n",
       "            min_samples_leaf=10, min_samples_split=2,\n",
       "            min_weight_fraction_leaf=0.0, presort=False, random_state=11,\n",
       "            splitter='best')"
      ]
     },
     "execution_count": 230,
     "metadata": {},
     "output_type": "execute_result"
    }
   ],
   "source": [
    "best_model2 = random_search.best_estimator_;\n",
    "best_model2"
   ]
  },
  {
   "cell_type": "code",
   "execution_count": 231,
   "metadata": {},
   "outputs": [
    {
     "data": {
      "text/plain": [
       "previous          0.003109\n",
       "cons.price.idx    0.004841\n",
       "campaign          0.007865\n",
       "age               0.010131\n",
       "pdays             0.012294\n",
       "emp.var.rate      0.064048\n",
       "euribor3m         0.067591\n",
       "cons.conf.idx     0.082067\n",
       "nr.employed       0.269379\n",
       "duration          0.478675\n",
       "dtype: float64"
      ]
     },
     "execution_count": 231,
     "metadata": {},
     "output_type": "execute_result"
    }
   ],
   "source": [
    "pd.Series(index=df_preproc.columns[:-1], data = best_model2.feature_importances_).sort_values()"
   ]
  },
  {
   "cell_type": "code",
   "execution_count": 232,
   "metadata": {},
   "outputs": [],
   "source": [
    "test = pd.read_csv('test.csv', index_col='_id');\n",
    "test_tree = test.pipe(preproc);\n",
    "#test_tree.info()\n",
    "#test_tree.head()"
   ]
  },
  {
   "cell_type": "code",
   "execution_count": 233,
   "metadata": {},
   "outputs": [
    {
     "data": {
      "text/plain": [
       "array([0, 0, 0, ..., 0, 0, 0], dtype=int64)"
      ]
     },
     "execution_count": 233,
     "metadata": {},
     "output_type": "execute_result"
    }
   ],
   "source": [
    "res_tree = best_model2.predict(test_tree);\n",
    "res_tree"
   ]
  },
  {
   "cell_type": "code",
   "execution_count": 234,
   "metadata": {},
   "outputs": [
    {
     "data": {
      "text/plain": [
       "0    12277\n",
       "1     4199\n",
       "Name: target, dtype: int64"
      ]
     },
     "execution_count": 234,
     "metadata": {},
     "output_type": "execute_result"
    }
   ],
   "source": [
    "test_out = test_tree[['duration']]\n",
    "test_out = test_out.drop(['duration'], axis=1)\n",
    "test_out['target'] = res_tree\n",
    "test_out.loc[:, 'target'].value_counts()\n",
    "#test_out\n",
    "#0    12289\n",
    "#1     4187\n",
    "#Name: target, dtype: int64\n",
    "# стало хуже когда random_state': 92\n",
    "#0    12383\n",
    "#1     4093\n",
    "#Name: target, dtype: int64"
   ]
  },
  {
   "cell_type": "code",
   "execution_count": 235,
   "metadata": {},
   "outputs": [],
   "source": [
    "test_out.to_csv('res_tree8.csv')"
   ]
  },
  {
   "cell_type": "markdown",
   "metadata": {},
   "source": [
    "# Логистическая регрессия"
   ]
  },
  {
   "cell_type": "code",
   "execution_count": 24,
   "metadata": {},
   "outputs": [],
   "source": [
    "import pandas as pd\n",
    "import numpy as np\n",
    "import matplotlib.pyplot as plt\n",
    "from io import StringIO\n",
    "import pydot\n",
    "from IPython.display import Image\n",
    "\n",
    "from sklearn.tree import export_graphviz\n",
    "from sklearn.linear_model import LogisticRegression\n",
    "from ipywidgets import interact, IntSlider\n",
    "import subprocess\n",
    "\n",
    "%matplotlib inline\n",
    "\n",
    "plt.style.use('ggplot')\n",
    "plt.rcParams['figure.figsize'] = (18,12)\n",
    "\n",
    "from ipywidgets import interact, IntSlider, FloatSlider"
   ]
  },
  {
   "cell_type": "code",
   "execution_count": 25,
   "metadata": {},
   "outputs": [],
   "source": [
    "train = pd.read_csv('train.csv', index_col='_id');\n",
    "#train.head().T"
   ]
  },
  {
   "cell_type": "code",
   "execution_count": 26,
   "metadata": {},
   "outputs": [
    {
     "data": {
      "text/plain": [
       "(24712, 21)"
      ]
     },
     "execution_count": 26,
     "metadata": {},
     "output_type": "execute_result"
    }
   ],
   "source": [
    "train_lr = train.copy();\n",
    "train_lr.shape"
   ]
  },
  {
   "cell_type": "code",
   "execution_count": 27,
   "metadata": {},
   "outputs": [],
   "source": [
    "def preproc(df_init):\n",
    "    df_preproc = df_init.copy()\n",
    "    # убираю больше столбцов\n",
    "    df_preproc = df_preproc.drop(['month', 'day_of_week', \"default\", \"education\", 'loan'], axis=1)\n",
    "    \n",
    "    df_preproc.loc[:, [\"poutcome\"]] = \\\n",
    "    df_preproc.loc[:, [\"poutcome\"]].replace({'failure': 0, 'nonexistent': 0, 'success': 1});\n",
    "    \n",
    "    df_preproc.loc[:, [\"contact\"]] = \\\n",
    "    df_preproc.loc[:, [\"contact\"]].replace({'telephone': 0, 'cellular': 1});\n",
    "    \n",
    "    df_preproc.loc[:, ['housing']] = \\\n",
    "    df_preproc.loc[:, ['housing']].replace({'no': 0, 'unknown':0, 'yes': 1})\n",
    "    \n",
    "    df_preproc.loc[:, ['duration']] = \\\n",
    "    df_preproc.loc[:, ['duration']].replace({1:0, 2:0, 3:0, 4:0, 5:0, 6:0, 7:0, 9:0, 9:0, 10:0, 11:0, 12:0, 13:0, 14:0,})\n",
    "        \n",
    "    df_preproc.loc[:, [\"marital\"]] = \\\n",
    "    df_preproc.loc[:, [\"marital\"]].replace({\"divorced\":1, \"single\": 1, \"married\": 2, \"unknown\": 0});\n",
    "    #пробую изменить значения для работ, чтобы повысить вес этого параметра и в итоге повысить точность - не работает это\n",
    "    df_preproc.loc[:, [\"job\"]] = \\\n",
    "    df_preproc.loc[:, [\"job\"]].replace({\"admin.\": 2, \"blue-collar\": 1, \"entrepreneur\": 1, \"housemaid\":0, \\\n",
    "        \"management\": 2, \"retired\":0, \"self-employed\":0, \"services\":1, \"student\":0, \"technician\":1, \"unemployed\":0, \"unknown\":0});\n",
    "    \n",
    "        \n",
    "    return df_preproc"
   ]
  },
  {
   "cell_type": "code",
   "execution_count": 51,
   "metadata": {},
   "outputs": [
    {
     "data": {
      "text/plain": [
       "(24712, 16)"
      ]
     },
     "execution_count": 51,
     "metadata": {},
     "output_type": "execute_result"
    }
   ],
   "source": [
    "df_preproc = train_lr.pipe(preproc);\n",
    "df_preproc.shape"
   ]
  },
  {
   "cell_type": "code",
   "execution_count": 52,
   "metadata": {},
   "outputs": [],
   "source": [
    "X, y = df_preproc.iloc[:, :-1].values, df_preproc.iloc[:, -1].values"
   ]
  },
  {
   "cell_type": "code",
   "execution_count": 53,
   "metadata": {},
   "outputs": [],
   "source": [
    "from sklearn.cross_validation import train_test_split\n",
    "X_train, X_test, y_train, y_test = \\\n",
    "train_test_split(X, y, test_size = 0.2, random_state = 11)"
   ]
  },
  {
   "cell_type": "code",
   "execution_count": 54,
   "metadata": {},
   "outputs": [
    {
     "name": "stdout",
     "output_type": "stream",
     "text": [
      "(19769, 15)\n",
      "(4943, 15)\n",
      "(19769,)\n",
      "(4943,)\n"
     ]
    }
   ],
   "source": [
    "print(X_train.shape)\n",
    "print(X_test.shape)\n",
    "print(y_train.shape)\n",
    "print(y_test.shape)"
   ]
  },
  {
   "cell_type": "code",
   "execution_count": 55,
   "metadata": {},
   "outputs": [],
   "source": [
    "#LogisticRegression\n",
    "model = LogisticRegression()                     \n",
    "model.fit(X_train, y_train)                      \n",
    "predict = model.predict(X_test)"
   ]
  },
  {
   "cell_type": "code",
   "execution_count": 56,
   "metadata": {},
   "outputs": [
    {
     "name": "stdout",
     "output_type": "stream",
     "text": [
      "precision 0.6705539358600583\n",
      "recall 0.40421792618629176\n",
      "accuracy 0.908557556139996\n",
      "f1 0.5043859649122807\n"
     ]
    }
   ],
   "source": [
    "from sklearn.metrics import precision_score, recall_score, accuracy_score, classification_report, f1_score\n",
    "\n",
    "print('precision', precision_score(y_test, predict))\n",
    "print('recall', recall_score(y_test, predict))\n",
    "print('accuracy', accuracy_score(y_test, predict))\n",
    "print('f1', f1_score(y_test, predict))\n",
    "pr_sc0 = precision_score(y_test, predict)\n",
    "re_sc0 = recall_score(y_test, predict)\n",
    "acc_sc0 = accuracy_score(y_test, predict)\n",
    "f1_sc0 = f1_score(y_test, predict)"
   ]
  },
  {
   "cell_type": "code",
   "execution_count": 57,
   "metadata": {},
   "outputs": [
    {
     "data": {
      "text/plain": [
       "array([0.03045776, 0.00703228, 0.01678735, ..., 0.17126034, 0.29051892,\n",
       "       0.18869566])"
      ]
     },
     "execution_count": 57,
     "metadata": {},
     "output_type": "execute_result"
    }
   ],
   "source": [
    "predict_proba = model.predict_proba(X_test)\n",
    "predict_proba[:,1]"
   ]
  },
  {
   "cell_type": "code",
   "execution_count": 58,
   "metadata": {},
   "outputs": [
    {
     "name": "stdout",
     "output_type": "stream",
     "text": [
      "Среднее значение roc_auc для модели LogisticRegression 0.9196971105540218\n"
     ]
    }
   ],
   "source": [
    "from sklearn.cross_validation import cross_val_score\n",
    "# Сделать k-fold (10 фолдов) кросс-валидацию каждой модели\n",
    "# И посчитать средний roc_auc\n",
    "\n",
    "lr = LogisticRegression()\n",
    "cvs = cross_val_score(\n",
    "    lr,\n",
    "    X_train,\n",
    "    y_train,\n",
    "    scoring='roc_auc',\n",
    "    cv=10\n",
    ")\n",
    "print ('Среднее значение roc_auc для модели LogisticRegression', np.mean(cvs))"
   ]
  },
  {
   "cell_type": "code",
   "execution_count": 59,
   "metadata": {},
   "outputs": [
    {
     "data": {
      "image/png": "[encoded data removed]",
      "text/plain": [
       "<Figure size 360x360 with 1 Axes>"
      ]
     },
     "metadata": {},
     "output_type": "display_data"
    },
    {
     "name": "stdout",
     "output_type": "stream",
     "text": [
      "roc_auc для модели LogisticRegression 0.9193223577892371\n"
     ]
    }
   ],
   "source": [
    "%matplotlib inline\n",
    "from matplotlib import pyplot as plt\n",
    "from sklearn.metrics import roc_auc_score, roc_curve\n",
    "\n",
    "plt.figure(figsize=(5, 5))\n",
    "fpr, tpr, thresholds = roc_curve(y_test, predict_proba[:,1])\n",
    "\n",
    "plt.plot(fpr, tpr)\n",
    "\n",
    "plt.plot([0, 1], [0, 1])\n",
    "plt.ylabel('tpr')\n",
    "plt.xlabel('fpr')\n",
    "plt.grid(True)\n",
    "plt.title('ROC curve')\n",
    "plt.xlim((-0.01, 1.01))\n",
    "plt.ylim((-0.01, 1.01))\n",
    "plt.legend(['Regression'],\n",
    "            loc='upper left')\n",
    "\n",
    "\n",
    "plt.show()\n",
    "print ('roc_auc для модели LogisticRegression', roc_auc_score(y_test, predict_proba[:,1]))\n"
   ]
  },
  {
   "cell_type": "code",
   "execution_count": 60,
   "metadata": {},
   "outputs": [
    {
     "name": "stdout",
     "output_type": "stream",
     "text": [
      "<class 'pandas.core.frame.DataFrame'>\n",
      "Index: 16476 entries, 66810d8e6bf2b41c880a7bc6c8a1e295 to 82db4c5dd22e8182b30917571fe77c4d\n",
      "Data columns (total 15 columns):\n",
      "age               16476 non-null int64\n",
      "job               16476 non-null int64\n",
      "marital           16476 non-null int64\n",
      "housing           16476 non-null int64\n",
      "contact           16476 non-null int64\n",
      "duration          16476 non-null int64\n",
      "campaign          16476 non-null int64\n",
      "pdays             16476 non-null int64\n",
      "previous          16476 non-null int64\n",
      "poutcome          16476 non-null int64\n",
      "emp.var.rate      16476 non-null float64\n",
      "cons.price.idx    16476 non-null float64\n",
      "cons.conf.idx     16476 non-null float64\n",
      "euribor3m         16476 non-null float64\n",
      "nr.employed       16476 non-null float64\n",
      "dtypes: float64(5), int64(10)\n",
      "memory usage: 2.0+ MB\n"
     ]
    },
    {
     "data": {
      "text/html": [
       "<div>\n",
       "<style scoped>\n",
       "    .dataframe tbody tr th:only-of-type {\n",
       "        vertical-align: middle;\n",
       "    }\n",
       "\n",
       "    .dataframe tbody tr th {\n",
       "        vertical-align: top;\n",
       "    }\n",
       "\n",
       "    .dataframe thead th {\n",
       "        text-align: right;\n",
       "    }\n",
       "</style>\n",
       "<table border=\"1\" class=\"dataframe\">\n",
       "  <thead>\n",
       "    <tr style=\"text-align: right;\">\n",
       "      <th></th>\n",
       "      <th>age</th>\n",
       "      <th>job</th>\n",
       "      <th>marital</th>\n",
       "      <th>housing</th>\n",
       "      <th>contact</th>\n",
       "      <th>duration</th>\n",
       "      <th>campaign</th>\n",
       "      <th>pdays</th>\n",
       "      <th>previous</th>\n",
       "      <th>poutcome</th>\n",
       "      <th>emp.var.rate</th>\n",
       "      <th>cons.price.idx</th>\n",
       "      <th>cons.conf.idx</th>\n",
       "      <th>euribor3m</th>\n",
       "      <th>nr.employed</th>\n",
       "    </tr>\n",
       "    <tr>\n",
       "      <th>_id</th>\n",
       "      <th></th>\n",
       "      <th></th>\n",
       "      <th></th>\n",
       "      <th></th>\n",
       "      <th></th>\n",
       "      <th></th>\n",
       "      <th></th>\n",
       "      <th></th>\n",
       "      <th></th>\n",
       "      <th></th>\n",
       "      <th></th>\n",
       "      <th></th>\n",
       "      <th></th>\n",
       "      <th></th>\n",
       "      <th></th>\n",
       "    </tr>\n",
       "  </thead>\n",
       "  <tbody>\n",
       "    <tr>\n",
       "      <th>66810d8e6bf2b41c880a7bc6c8a1e295</th>\n",
       "      <td>57</td>\n",
       "      <td>1</td>\n",
       "      <td>2</td>\n",
       "      <td>0</td>\n",
       "      <td>1</td>\n",
       "      <td>371</td>\n",
       "      <td>1</td>\n",
       "      <td>999</td>\n",
       "      <td>1</td>\n",
       "      <td>0</td>\n",
       "      <td>-1.8</td>\n",
       "      <td>92.893</td>\n",
       "      <td>-46.2</td>\n",
       "      <td>1.299</td>\n",
       "      <td>5099.1</td>\n",
       "    </tr>\n",
       "    <tr>\n",
       "      <th>ccac3879652b08cb8b44c1920fd93afa</th>\n",
       "      <td>55</td>\n",
       "      <td>0</td>\n",
       "      <td>2</td>\n",
       "      <td>1</td>\n",
       "      <td>0</td>\n",
       "      <td>285</td>\n",
       "      <td>2</td>\n",
       "      <td>999</td>\n",
       "      <td>0</td>\n",
       "      <td>0</td>\n",
       "      <td>1.1</td>\n",
       "      <td>93.994</td>\n",
       "      <td>-36.4</td>\n",
       "      <td>4.860</td>\n",
       "      <td>5191.0</td>\n",
       "    </tr>\n",
       "    <tr>\n",
       "      <th>fcccab4d7a76f70647f015f2c84c2af8</th>\n",
       "      <td>33</td>\n",
       "      <td>1</td>\n",
       "      <td>2</td>\n",
       "      <td>0</td>\n",
       "      <td>1</td>\n",
       "      <td>52</td>\n",
       "      <td>1</td>\n",
       "      <td>999</td>\n",
       "      <td>1</td>\n",
       "      <td>0</td>\n",
       "      <td>-1.8</td>\n",
       "      <td>92.893</td>\n",
       "      <td>-46.2</td>\n",
       "      <td>1.313</td>\n",
       "      <td>5099.1</td>\n",
       "    </tr>\n",
       "    <tr>\n",
       "      <th>ed8399278c30678dab739045fa12b440</th>\n",
       "      <td>36</td>\n",
       "      <td>2</td>\n",
       "      <td>2</td>\n",
       "      <td>0</td>\n",
       "      <td>0</td>\n",
       "      <td>355</td>\n",
       "      <td>4</td>\n",
       "      <td>999</td>\n",
       "      <td>0</td>\n",
       "      <td>0</td>\n",
       "      <td>1.4</td>\n",
       "      <td>94.465</td>\n",
       "      <td>-41.8</td>\n",
       "      <td>4.967</td>\n",
       "      <td>5228.1</td>\n",
       "    </tr>\n",
       "    <tr>\n",
       "      <th>1d4d62ac5cabcb48bac7112813f290cb</th>\n",
       "      <td>27</td>\n",
       "      <td>0</td>\n",
       "      <td>2</td>\n",
       "      <td>1</td>\n",
       "      <td>1</td>\n",
       "      <td>189</td>\n",
       "      <td>2</td>\n",
       "      <td>999</td>\n",
       "      <td>0</td>\n",
       "      <td>0</td>\n",
       "      <td>1.4</td>\n",
       "      <td>93.918</td>\n",
       "      <td>-42.7</td>\n",
       "      <td>4.963</td>\n",
       "      <td>5228.1</td>\n",
       "    </tr>\n",
       "  </tbody>\n",
       "</table>\n",
       "</div>"
      ],
      "text/plain": [
       "                                  age  job  marital  housing  contact  \\\n",
       "_id                                                                     \n",
       "66810d8e6bf2b41c880a7bc6c8a1e295   57    1        2        0        1   \n",
       "ccac3879652b08cb8b44c1920fd93afa   55    0        2        1        0   \n",
       "fcccab4d7a76f70647f015f2c84c2af8   33    1        2        0        1   \n",
       "ed8399278c30678dab739045fa12b440   36    2        2        0        0   \n",
       "1d4d62ac5cabcb48bac7112813f290cb   27    0        2        1        1   \n",
       "\n",
       "                                  duration  campaign  pdays  previous  \\\n",
       "_id                                                                     \n",
       "66810d8e6bf2b41c880a7bc6c8a1e295       371         1    999         1   \n",
       "ccac3879652b08cb8b44c1920fd93afa       285         2    999         0   \n",
       "fcccab4d7a76f70647f015f2c84c2af8        52         1    999         1   \n",
       "ed8399278c30678dab739045fa12b440       355         4    999         0   \n",
       "1d4d62ac5cabcb48bac7112813f290cb       189         2    999         0   \n",
       "\n",
       "                                  poutcome  emp.var.rate  cons.price.idx  \\\n",
       "_id                                                                        \n",
       "66810d8e6bf2b41c880a7bc6c8a1e295         0          -1.8          92.893   \n",
       "ccac3879652b08cb8b44c1920fd93afa         0           1.1          93.994   \n",
       "fcccab4d7a76f70647f015f2c84c2af8         0          -1.8          92.893   \n",
       "ed8399278c30678dab739045fa12b440         0           1.4          94.465   \n",
       "1d4d62ac5cabcb48bac7112813f290cb         0           1.4          93.918   \n",
       "\n",
       "                                  cons.conf.idx  euribor3m  nr.employed  \n",
       "_id                                                                      \n",
       "66810d8e6bf2b41c880a7bc6c8a1e295          -46.2      1.299       5099.1  \n",
       "ccac3879652b08cb8b44c1920fd93afa          -36.4      4.860       5191.0  \n",
       "fcccab4d7a76f70647f015f2c84c2af8          -46.2      1.313       5099.1  \n",
       "ed8399278c30678dab739045fa12b440          -41.8      4.967       5228.1  \n",
       "1d4d62ac5cabcb48bac7112813f290cb          -42.7      4.963       5228.1  "
      ]
     },
     "execution_count": 60,
     "metadata": {},
     "output_type": "execute_result"
    }
   ],
   "source": [
    "test = pd.read_csv('test.csv', index_col='_id');\n",
    "test_lr = test.pipe(preproc);\n",
    "test_lr.info()\n",
    "test_lr.head()"
   ]
  },
  {
   "cell_type": "code",
   "execution_count": 61,
   "metadata": {},
   "outputs": [
    {
     "data": {
      "text/plain": [
       "array([0, 0, 0, ..., 0, 0, 0], dtype=int64)"
      ]
     },
     "execution_count": 61,
     "metadata": {},
     "output_type": "execute_result"
    }
   ],
   "source": [
    "res_lr = model.predict(test_lr);\n",
    "res_lr"
   ]
  },
  {
   "cell_type": "code",
   "execution_count": 62,
   "metadata": {},
   "outputs": [
    {
     "data": {
      "text/plain": [
       "0    15374\n",
       "1     1102\n",
       "Name: target, dtype: int64"
      ]
     },
     "execution_count": 62,
     "metadata": {},
     "output_type": "execute_result"
    }
   ],
   "source": [
    "test_out = test_lr.drop(['age', 'housing', 'contact', 'duration', 'campaign', 'pdays', 'nr.employed'], axis=1)\n",
    "test_out = test_out.drop(['previous', 'poutcome', 'emp.var.rate', 'cons.price.idx', 'cons.conf.idx', 'euribor3m'], axis=1)\n",
    "test_out = test_out.drop(['job', 'marital'], axis=1)\n",
    "test_out['target'] = res_lr\n",
    "test_out.loc[:, 'target'].value_counts()\n",
    "#0    15374\n",
    "#1     1102\n",
    "#Name: target, dtype: int64"
   ]
  },
  {
   "cell_type": "code",
   "execution_count": 23,
   "metadata": {},
   "outputs": [],
   "source": [
    "test_out.to_csv('res_lr1.csv')"
   ]
  },
  {
   "cell_type": "code",
   "execution_count": null,
   "metadata": {},
   "outputs": [],
   "source": []
  }
 ],
 "metadata": {
  "kernelspec": {
   "display_name": "Python 3",
   "language": "python",
   "name": "python3"
  },
  "language_info": {
   "codemirror_mode": {
    "name": "ipython",
    "version": 3
   },
   "file_extension": ".py",
   "mimetype": "text/x-python",
   "name": "python",
   "nbconvert_exporter": "python",
   "pygments_lexer": "ipython3",
   "version": "3.6.6"
  }
 },
 "nbformat": 4,
 "nbformat_minor": 2
}
